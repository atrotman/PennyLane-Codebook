{
 "cells": [
  {
   "cell_type": "code",
   "execution_count": null,
   "id": "a32f662d-42b5-4d21-97e7-57c282e65892",
   "metadata": {},
   "outputs": [],
   "source": [
    "#G.3.1\n",
    "n_bits = 5\n",
    "query_register = list(range(n_bits))\n",
    "aux = [n_bits]\n",
    "all_wires = query_register+aux\n",
    "dev = qml.device('default.qubit', wires=all_wires)\n",
    "\n",
    "def oracle(combo):\n",
    "    combo_str = ''.join(str(j) for j in combo)\n",
    "    qml.MultiControlledX(control_wires=query_register, wires=aux, control_values=str(''.join(str(i) for i in combo)))\n",
    "    pass\n"
   ]
  },
  {
   "cell_type": "code",
   "execution_count": null,
   "id": "7ac4fc22-b404-4b15-87d3-79b4dc2658c9",
   "metadata": {},
   "outputs": [],
   "source": [
    "#G.3.2\n",
    "def hadamard_transform(my_wires):\n",
    "    for wire in my_wires:\n",
    "        qml.Hadamard(wires=wire)\n",
    "\n",
    "def diffusion():\n",
    "    hadamard_transform(query_register)\n",
    "    qml.MultiControlledX(control_wires=query_register, wires=aux, control_values='0'*len(query_register))\n",
    "    hadamard_transform(query_register)\n",
    "    pass\n"
   ]
  },
  {
   "cell_type": "code",
   "execution_count": null,
   "id": "7b3183f7-5430-4b28-bc4d-2584f587044c",
   "metadata": {},
   "outputs": [],
   "source": [
    "#G.3.3\n",
    "@qml.qnode(dev)\n",
    "def grover_circuit(combo):\n",
    "    qml.PauliX(wires=aux)\n",
    "    hadamard_transform(all_wires)\n",
    "    # APPLY GROVER ITERATION\n",
    "    oracle(combo)\n",
    "    diffusion()\n",
    "    return qml.probs(wires=query_register)\n"
   ]
  }
 ],
 "metadata": {
  "kernelspec": {
   "display_name": "Python 3 (ipykernel)",
   "language": "python",
   "name": "python3"
  },
  "language_info": {
   "codemirror_mode": {
    "name": "ipython",
    "version": 3
   },
   "file_extension": ".py",
   "mimetype": "text/x-python",
   "name": "python",
   "nbconvert_exporter": "python",
   "pygments_lexer": "ipython3",
   "version": "3.11.6"
  }
 },
 "nbformat": 4,
 "nbformat_minor": 5
}
