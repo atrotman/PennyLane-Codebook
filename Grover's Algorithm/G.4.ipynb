{
 "cells": [
  {
   "cell_type": "code",
   "execution_count": null,
   "id": "a44ecb3a-70df-43e8-b59e-239ba3548e15",
   "metadata": {},
   "outputs": [],
   "source": [
    "#G.4.1a\n",
    "def grover_iter(combo, num_steps):\n",
    "    n_bits = len(combo)\n",
    "    query_register = list(range(n_bits))\n",
    "    aux = [n_bits]\n",
    "    all_wires = query_register+aux\n",
    "    dev = qml.device('default.qubit', wires=all_wires)\n",
    "\n",
    "    @qml.qnode(dev)\n",
    "    def inner_circuit():\n",
    "        qml.PauliX(wires=aux)\n",
    "        hadamard_transform(all_wires)\n",
    "        for ind in range(num_steps):\n",
    "            oracle(combo)\n",
    "            diffusion(n_bits)\n",
    "        return qml.probs(wires=query_register)  \n",
    "        return qml.probs(wires=query_register)\n",
    "    return inner_circuit()"
   ]
  },
  {
   "cell_type": "code",
   "execution_count": null,
   "id": "63a212f1-52ca-4edb-ab58-58c62d042b2d",
   "metadata": {},
   "outputs": [],
   "source": [
    "#G.4.1b\n",
    "n_list = range(3,7)\n",
    "opt_steps = []\n",
    "\n",
    "for n_bits in n_list:\n",
    "    combo = \"0\"*n_bits\n",
    "    step_list = range(1,10)\n",
    "    num_list=[]\n",
    "    for i in step_list:\n",
    "        num_list.append(grover_iter(combo, i)[0].numpy())\n",
    "    opt_steps.append(local_max_arg(num_list))\n",
    "    pass\n",
    "\n",
    "print(\"The optimal number of Grover steps for qubits in\", [3,4,5,6], \"is\", opt_steps, \".\")\n"
   ]
  }
 ],
 "metadata": {
  "kernelspec": {
   "display_name": "Python 3 (ipykernel)",
   "language": "python",
   "name": "python3"
  },
  "language_info": {
   "codemirror_mode": {
    "name": "ipython",
    "version": 3
   },
   "file_extension": ".py",
   "mimetype": "text/x-python",
   "name": "python",
   "nbconvert_exporter": "python",
   "pygments_lexer": "ipython3",
   "version": "3.11.6"
  }
 },
 "nbformat": 4,
 "nbformat_minor": 5
}
