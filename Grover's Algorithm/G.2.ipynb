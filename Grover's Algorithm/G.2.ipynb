{
 "cells": [
  {
   "cell_type": "code",
   "execution_count": 1,
   "id": "6800813a-940e-45f1-a7d1-b35d4c56bcaf",
   "metadata": {},
   "outputs": [],
   "source": [
    "#G.2.1\n",
    "n_bits = 5\n",
    "dev = qml.device(\"default.qubit\", wires=n_bits)\n",
    "\n",
    "def oracle_matrix(combo):\n",
    "    index = np.ravel_multi_index(combo, [2]*len(combo)) # Index of solution\n",
    "    my_array = np.identity(2**len(combo)) # Create the identity matrix\n",
    "    my_array[index, index] = -1\n",
    "    return my_array\n",
    "\n",
    "def diffusion_matrix():\n",
    "    psi_piece = (1/2**n_bits)*np.ones(2**n_bits)\n",
    "    ident_piece = np.eye(2**n_bits)\n",
    "    return (2*psi_piece - ident_piece)\n",
    "\n",
    "@qml.qnode(dev)\n",
    "def grover_circuit(combo, num_steps):\n",
    "    for i in range(n_bits):\n",
    "        qml.Hadamard(wires=i)\n",
    "    for j in range(num_steps):\n",
    "        qml.QubitUnitary(oracle_matrix(combo), wires=[i for i in range(n_bits)])\n",
    "        qml.QubitUnitary(diffusion_matrix(), wires=[i for i in range(n_bits)])\n",
    "    return qml.state()\n",
    "my_steps = 4"
   ]
  }
 ],
 "metadata": {
  "kernelspec": {
   "display_name": "Python 3 (ipykernel)",
   "language": "python",
   "name": "python3"
  },
  "language_info": {
   "codemirror_mode": {
    "name": "ipython",
    "version": 3
   },
   "file_extension": ".py",
   "mimetype": "text/x-python",
   "name": "python",
   "nbconvert_exporter": "python",
   "pygments_lexer": "ipython3",
   "version": "3.11.6"
  }
 },
 "nbformat": 4,
 "nbformat_minor": 5
}
