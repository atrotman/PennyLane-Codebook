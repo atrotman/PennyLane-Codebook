{
 "cells": [
  {
   "cell_type": "code",
   "execution_count": null,
   "id": "01c8ed32-119f-4905-9dd9-8b6679d7aad4",
   "metadata": {},
   "outputs": [],
   "source": [
    "#G.5.1a\n",
    "n_bits = 5\n",
    "query_register = list(range(n_bits))\n",
    "aux = [n_bits]\n",
    "all_wires = query_register+aux\n",
    "dev = qml.device('default.qubit', wires=all_wires)\n",
    "\n",
    "def oracle_multi(combos):\n",
    "    for combo in combos:\n",
    "        combo_str = ''.join(str(j) for j in combo)\n",
    "        qml.MultiControlledX(control_wires=query_register, wires=aux, control_values=combo_str)\n",
    "        pass"
   ]
  },
  {
   "cell_type": "code",
   "execution_count": null,
   "id": "3847c8c2-b341-4da5-818d-2b1256af0284",
   "metadata": {},
   "outputs": [],
   "source": [
    "#G.5.2a\n",
    "n_bits = 5\n",
    "query_register = list(range(n_bits))\n",
    "aux = [n_bits]\n",
    "all_wires = query_register+aux\n",
    "dev = qml.device('default.qubit', wires=all_wires, shots=None)\n",
    "\n",
    "def grover_iter_multi(combos, num_steps):\n",
    "    @qml.qnode(dev)\n",
    "    def inner_circuit():\n",
    "        qml.PauliX(wires=n_bits)\n",
    "        qml.Hadamard(wires=n_bits)\n",
    "        hadamard_transform(query_register)\n",
    "\n",
    "        for _ in range(num_steps):\n",
    "            oracle_multi(combos)\n",
    "            diffusion(n_bits)\n",
    "        return qml.probs(wires=query_register)\n",
    "    \n",
    "    return inner_circuit()"
   ]
  },
  {
   "cell_type": "code",
   "execution_count": null,
   "id": "7eb9bfd4-18f7-4951-ae5e-10bb5b686646",
   "metadata": {},
   "outputs": [],
   "source": [
    "#G.5.2b\n",
    "m_list = range(3)\n",
    "opt_steps = []\n",
    "\n",
    "for m_bits in m_list:\n",
    "    combos = [[int(s) for s in np.binary_repr(j, n_bits)] for j in range(2**m_bits)]\n",
    "    step_list = range(1,10)\n",
    "    num_list=[]\n",
    "    for i in step_list:\n",
    "        num_list.append(grover_iter_multi(combos, i)[0].numpy())\n",
    "    opt_steps.append(local_max_arg(num_list))   \n",
    "    pass\n",
    "\n",
    "print(\"The optimal number of Grover steps for the number of solutions in\", [1,2,4], \"is\", opt_steps, \".\")\n"
   ]
  }
 ],
 "metadata": {
  "kernelspec": {
   "display_name": "Python 3 (ipykernel)",
   "language": "python",
   "name": "python3"
  },
  "language_info": {
   "codemirror_mode": {
    "name": "ipython",
    "version": 3
   },
   "file_extension": ".py",
   "mimetype": "text/x-python",
   "name": "python",
   "nbconvert_exporter": "python",
   "pygments_lexer": "ipython3",
   "version": "3.11.6"
  }
 },
 "nbformat": 4,
 "nbformat_minor": 5
}
