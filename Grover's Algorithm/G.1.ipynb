{
 "cells": [
  {
   "cell_type": "code",
   "execution_count": null,
   "id": "b6c2a22d-a4da-4202-8a29-b5bf80b230b5",
   "metadata": {},
   "outputs": [],
   "source": [
    "#G.1.1\n",
    "n_bits = 4\n",
    "dev = qml.device(\"default.qubit\", wires=n_bits)\n",
    "\n",
    "def oracle_matrix(combo):\n",
    "    index = np.ravel_multi_index(combo, [2]*len(combo))\n",
    "    my_array = np.identity(2**len(combo))\n",
    "    my_array[index, index] = -1\n",
    "    return my_array\n",
    "\n",
    "@qml.qnode(dev)\n",
    "def oracle_amp(combo):\n",
    "    for i in range(n_bits):\n",
    "        qml.Hadamard(wires=i)\n",
    "    qml.QubitUnitary(oracle_matrix(combo), wires=[i for i in range(n_bits)])\n",
    "    return qml.state()"
   ]
  },
  {
   "cell_type": "code",
   "execution_count": null,
   "id": "0bef9100-cabc-44ff-aa41-202f02acc2e9",
   "metadata": {},
   "outputs": [],
   "source": [
    "#G.1.2\n",
    "n_bits = 4\n",
    "\n",
    "def diffusion_matrix():\n",
    "    I = np.eye(2**n_bits)\n",
    "    phi = 1/np.sqrt(2**n_bits) * np.ones(shape=(2**n_bits))\n",
    "    pass  # FORM A DIFFERENCE OF MATRICES\n",
    "    return 2* np.outer(phi,phi)-I\n",
    "\n",
    "@qml.qnode(dev)\n",
    "def difforacle_amp(combo):\n",
    "    for i in range(n_bits):\n",
    "        qml.Hadamard(wires=i)\n",
    "    qml.QubitUnitary(oracle_matrix(combo), wires=[i for i in range(n_bits)])\n",
    "    qml.QubitUnitary(diffusion_matrix(), wires=[i for i in range(n_bits)])\n",
    "    return qml.state()"
   ]
  },
  {
   "cell_type": "code",
   "execution_count": null,
   "id": "6ef2cbef-c454-4567-b30b-f10bd75a8994",
   "metadata": {},
   "outputs": [],
   "source": [
    "#G.1.3\n",
    "@qml.qnode(dev)\n",
    "def two_difforacle_amp(combo):\n",
    "    for i in range(n_bits):\n",
    "        qml.Hadamard(wires=i)\n",
    "    qml.QubitUnitary(oracle_matrix(combo), wires=[i for i in range(n_bits)])\n",
    "    qml.QubitUnitary(diffusion_matrix(), wires=[i for i in range(n_bits)])\n",
    "    qml.QubitUnitary(oracle_matrix(combo), wires=[i for i in range(n_bits)])\n",
    "    qml.QubitUnitary(diffusion_matrix(), wires=[i for i in range(n_bits)])\n",
    "    return qml.state()"
   ]
  }
 ],
 "metadata": {
  "kernelspec": {
   "display_name": "Python 3 (ipykernel)",
   "language": "python",
   "name": "python3"
  },
  "language_info": {
   "codemirror_mode": {
    "name": "ipython",
    "version": 3
   },
   "file_extension": ".py",
   "mimetype": "text/x-python",
   "name": "python",
   "nbconvert_exporter": "python",
   "pygments_lexer": "ipython3",
   "version": "3.11.6"
  }
 },
 "nbformat": 4,
 "nbformat_minor": 5
}
