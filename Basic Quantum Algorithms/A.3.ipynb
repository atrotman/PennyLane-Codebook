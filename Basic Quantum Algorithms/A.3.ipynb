{
 "cells": [
  {
   "cell_type": "code",
   "execution_count": 1,
   "id": "ca2c9f3c-dd13-4db0-bc79-6718b4cc6661",
   "metadata": {},
   "outputs": [],
   "source": [
    "#A.3.1\n",
    "n_bits = 4\n",
    "dev = qml.device(\"default.qubit\", wires=n_bits)\n",
    "\n",
    "@qml.qnode(dev)\n",
    "def pair_circuit(x_tilde, combo):\n",
    "    for i in range(n_bits-1): # Initialize x_tilde part of state\n",
    "        if x_tilde[i] == 1:\n",
    "            qml.PauliX(wires=i)\n",
    "    qml.QubitUnitary(oracle_matrix(combo), wires = list(range(n_bits)))\n",
    "    qml.Hadamard(wires = n_bits-1)\n",
    "    return qml.probs(wires=n_bits-1)"
   ]
  },
  {
   "cell_type": "code",
   "execution_count": 2,
   "id": "47e59b97-9de0-4791-948f-57624019a85e",
   "metadata": {},
   "outputs": [],
   "source": [
    "#A.3.2\n",
    "def pair_lock_picker(trials):\n",
    "    x_tilde_strs = [np.binary_repr(n, n_bits-1) for n in range(2**(n_bits-1))]\n",
    "    x_tildes = [[int(s) for s in x_tilde_str] for x_tilde_str in x_tilde_strs] \n",
    "    test_numbers = []\n",
    "    for trial in range(trials):\n",
    "        combo = secret_combo(n_bits) # Random list of bits\n",
    "        counter = 0\n",
    "        for x_tilde in x_tildes:\n",
    "            counter += 1\n",
    "            if np.isclose(pair_circuit(x_tilde, combo)[1], 1):\n",
    "                break\n",
    "        test_numbers.append(counter)\n",
    "    return sum(test_numbers)/trials\n",
    "\n",
    "trials = 500\n",
    "output = pair_lock_picker(trials)\n",
    "\n",
    "print(f\"For {n_bits} bits, it takes\", output, \"pair tests on average.\")"
   ]
  }
 ],
 "metadata": {
  "kernelspec": {
   "display_name": "Python 3 (ipykernel)",
   "language": "python",
   "name": "python3"
  },
  "language_info": {
   "codemirror_mode": {
    "name": "ipython",
    "version": 3
   },
   "file_extension": ".py",
   "mimetype": "text/x-python",
   "name": "python",
   "nbconvert_exporter": "python",
   "pygments_lexer": "ipython3",
   "version": "3.11.6"
  }
 },
 "nbformat": 4,
 "nbformat_minor": 5
}
