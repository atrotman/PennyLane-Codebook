{
 "cells": [
  {
   "cell_type": "code",
   "execution_count": null,
   "id": "05c81205-e2c4-4181-a2de-29c1714220d7",
   "metadata": {},
   "outputs": [],
   "source": [
    "#A.6.1\n",
    "n_bits = 4\n",
    "dev = qml.device(\"default.qubit\", wires=n_bits)\n",
    "\n",
    "@qml.qnode(dev)\n",
    "def multisol_hoh_circuit(combos):\n",
    "    qml.broadcast(qml.Hadamard, wires = list(range(n_bits)), pattern = \"single\")  \n",
    "    qml.QubitUnitary(multisol_oracle_matrix(combos), wires = list(range(n_bits)))\n",
    "    qml.broadcast(qml.Hadamard, wires = list(range(n_bits)), pattern = \"single\")\n",
    "    return qml.probs(wires=range(n_bits))"
   ]
  },
  {
   "cell_type": "code",
   "execution_count": null,
   "id": "505a8c6a-bf1d-4e99-954c-8146ec76853a",
   "metadata": {},
   "outputs": [],
   "source": [
    "#A.6.2\n",
    "def deutsch_jozsa(promise_var):\n",
    "    if promise_var == 0:\n",
    "        how_many = 2**(n_bits - 1)\n",
    "    else:\n",
    "        how_many = np.random.choice([0, 2**n_bits]) # Choose all or nothing randomly\n",
    "    combos = multisol_combo(n_bits, how_many) # Generate random combinations\n",
    "    if np.isclose(multisol_hoh_circuit(combos)[0],0):\n",
    "        return 0\n",
    "    else:\n",
    "        return 1\n",
    "    pass"
   ]
  }
 ],
 "metadata": {
  "kernelspec": {
   "display_name": "Python 3 (ipykernel)",
   "language": "python",
   "name": "python3"
  },
  "language_info": {
   "codemirror_mode": {
    "name": "ipython",
    "version": 3
   },
   "file_extension": ".py",
   "mimetype": "text/x-python",
   "name": "python",
   "nbconvert_exporter": "python",
   "pygments_lexer": "ipython3",
   "version": "3.11.6"
  }
 },
 "nbformat": 4,
 "nbformat_minor": 5
}
