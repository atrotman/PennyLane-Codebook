{
 "cells": [
  {
   "cell_type": "code",
   "execution_count": null,
   "id": "d1fdf66b-49bc-47d0-a812-56fd34b328d0",
   "metadata": {},
   "outputs": [],
   "source": [
    "#A.2.1\n",
    "def oracle_matrix(combo):\n",
    "    index = np.ravel_multi_index(combo, [2]*len(combo)) # Index of solution\n",
    "    my_array = np.identity(2**len(combo)) # Create the identity matrix\n",
    "    my_array[index,index] = -1\n",
    "    return my_array"
   ]
  },
  {
   "cell_type": "code",
   "execution_count": 1,
   "id": "e261188c-ba40-498c-8b01-f58f79b17dc5",
   "metadata": {},
   "outputs": [],
   "source": [
    "#A.2.2\n",
    "n_bits = 4\n",
    "dev = qml.device(\"default.qubit\", wires=n_bits)\n",
    "\n",
    "@qml.qnode(dev)\n",
    "def oracle_circuit(combo):    \n",
    "    for wire in range(n_bits):\n",
    "        qml.Hadamard(wire)  \n",
    "    qml.QubitUnitary(oracle_matrix(combo), wires = list(range(n_bits)))\n",
    "    return qml.probs(wires=range(n_bits))"
   ]
  }
 ],
 "metadata": {
  "kernelspec": {
   "display_name": "Python 3 (ipykernel)",
   "language": "python",
   "name": "python3"
  },
  "language_info": {
   "codemirror_mode": {
    "name": "ipython",
    "version": 3
   },
   "file_extension": ".py",
   "mimetype": "text/x-python",
   "name": "python",
   "nbconvert_exporter": "python",
   "pygments_lexer": "ipython3",
   "version": "3.11.6"
  }
 },
 "nbformat": 4,
 "nbformat_minor": 5
}
