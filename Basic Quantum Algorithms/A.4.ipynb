{
 "cells": [
  {
   "cell_type": "code",
   "execution_count": 1,
   "id": "5984d263-e7c4-49e1-ba7a-78e18b6d425e",
   "metadata": {},
   "outputs": [],
   "source": [
    "#A.4.1\n",
    "n_bits = 4\n",
    "dev = qml.device(\"default.qubit\", wires=n_bits)\n",
    "\n",
    "def multisol_oracle_matrix(combos):\n",
    "    my_array = np.identity(2 ** n_bits)\n",
    "    indices = [np.ravel_multi_index(combo, [2]*len(combo)) for combo in combos]\n",
    "    for i in range(len(combos)):\n",
    "        my_array[indices[i], indices[i]] = -1\n",
    "    return my_array\n",
    "    pass\n",
    "\n",
    "@qml.qnode(dev)\n",
    "def multisol_pair_circuit(x_tilde, combos):\n",
    "    for i in range(n_bits-1): # Initialize x_tilde part of state\n",
    "        if x_tilde[i] == 1:\n",
    "            qml.PauliX(wires=i)\n",
    "    qml.Hadamard(wires = n_bits-1)\n",
    "    qml.QubitUnitary(multisol_oracle_matrix(combos), wires = list(range(n_bits)))\n",
    "    qml.Hadamard(wires = n_bits-1)\n",
    "    return qml.probs(wires=n_bits-1)"
   ]
  }
 ],
 "metadata": {
  "kernelspec": {
   "display_name": "Python 3 (ipykernel)",
   "language": "python",
   "name": "python3"
  },
  "language_info": {
   "codemirror_mode": {
    "name": "ipython",
    "version": 3
   },
   "file_extension": ".py",
   "mimetype": "text/x-python",
   "name": "python",
   "nbconvert_exporter": "python",
   "pygments_lexer": "ipython3",
   "version": "3.11.6"
  }
 },
 "nbformat": 4,
 "nbformat_minor": 5
}
