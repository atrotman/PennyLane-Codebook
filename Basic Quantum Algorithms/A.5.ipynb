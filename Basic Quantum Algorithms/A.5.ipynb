{
 "cells": [
  {
   "cell_type": "code",
   "execution_count": null,
   "id": "3243ed2e-a484-4ea8-ab03-1a6739080909",
   "metadata": {},
   "outputs": [],
   "source": [
    "#A.5.1\n",
    "n_bits = 4\n",
    "dev = qml.device(\"default.qubit\", wires=n_bits)\n",
    "\n",
    "@qml.qnode(dev)\n",
    "def hoh_circuit(combo):\n",
    "    qml.broadcast(qml.Hadamard, wires = list(range(n_bits)), pattern = \"single\")\n",
    "    qml.QubitUnitary(oracle_matrix(combo), wires = list(range(n_bits)))\n",
    "    qml.broadcast(qml.Hadamard, wires = list(range(n_bits)), pattern = \"single\")\n",
    "    return qml.probs(wires=range(n_bits))"
   ]
  }
 ],
 "metadata": {
  "kernelspec": {
   "display_name": "Python 3 (ipykernel)",
   "language": "python",
   "name": "python3"
  },
  "language_info": {
   "codemirror_mode": {
    "name": "ipython",
    "version": 3
   },
   "file_extension": ".py",
   "mimetype": "text/x-python",
   "name": "python",
   "nbconvert_exporter": "python",
   "pygments_lexer": "ipython3",
   "version": "3.11.6"
  }
 },
 "nbformat": 4,
 "nbformat_minor": 5
}
