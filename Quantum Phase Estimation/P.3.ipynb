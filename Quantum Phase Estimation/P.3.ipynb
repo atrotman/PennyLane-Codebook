{
 "cells": [
  {
   "cell_type": "code",
   "execution_count": null,
   "id": "1a9e7855-f058-4fac-8d65-aa295e120200",
   "metadata": {},
   "outputs": [],
   "source": [
    "#P.3.1\n",
    "dev = qml.device(\"default.qubit\", wires=10)\n",
    "\n",
    "def fractional_binary_to_decimal(binary_fraction, wires):\n",
    "    return float(binary_fraction/ 2 ** len(wires))\n",
    "\n",
    "def phase_window(probs, estimation_wires):\n",
    "    bound_1 = 0\n",
    "    bound_2 = 1\n",
    "    arr = []\n",
    "    increment = 2**-len(estimation_wires)\n",
    "    for i in range(2**len(estimation_wires)):\n",
    "        arr.append(i*increment)\n",
    "    probs = [float(i) for i in probs]\n",
    "    values = sorted(probs)\n",
    "    bound_1 = arr[probs.index(values[-1])]\n",
    "    bound_2 = arr[probs.index(values[-2])]\n",
    "    return (bound_1, bound_2)\n",
    "    return (bound_1, bound_2)\n",
    "\n",
    "estimation_wires = range(0, 3)\n",
    "target_wires = [9]\n",
    "U = np.array([[1, 0], [0, np.exp((2*np.pi*1j/7))]])\n",
    "probs = qpe(U, estimation_wires, target_wires)\n",
    "print(phase_window(probs, estimation_wires))\n",
    "done = True"
   ]
  },
  {
   "cell_type": "code",
   "execution_count": null,
   "id": "b3be176e-d983-4e9d-89ed-33a8efcca9fc",
   "metadata": {},
   "outputs": [],
   "source": [
    "#P.3.2\n",
    "dev = qml.device(\"default.qubit\", wires=10)\n",
    "\n",
    "def estimates_array(unitary):\n",
    "    estimates = []\n",
    "    target_wires = [9]\n",
    "    \n",
    "    for i in range(1,9):\n",
    "\t    estimation_wires = [j for j in range(i+1)]\n",
    "\t    probs = qpe(unitary, estimation_wires, target_wires)\n",
    "\t    p = phase_window(probs, estimation_wires)\n",
    "\t    arr =[]\n",
    "\t    increment = 2**-len(estimation_wires)\n",
    "\t    for i in range(2**len(estimation_wires)):\n",
    "\t\t    arr.append(i*increment)\n",
    "\t    probs = [float(i) for i in probs]\n",
    "\t    values = sorted(probs)\n",
    "\t    bound_1 = arr[probs.index(values[-1])]\n",
    "\t    estimates.append(p)\n",
    "    return estimates\n",
    "\n",
    "\n",
    "U = np.array([[1, 0], [0, np.exp((2*np.pi*1j/7))]])\n",
    "estimates_array(U)"
   ]
  }
 ],
 "metadata": {
  "kernelspec": {
   "display_name": "Python 3 (ipykernel)",
   "language": "python",
   "name": "python3"
  },
  "language_info": {
   "codemirror_mode": {
    "name": "ipython",
    "version": 3
   },
   "file_extension": ".py",
   "mimetype": "text/x-python",
   "name": "python",
   "nbconvert_exporter": "python",
   "pygments_lexer": "ipython3",
   "version": "3.11.6"
  }
 },
 "nbformat": 4,
 "nbformat_minor": 5
}
