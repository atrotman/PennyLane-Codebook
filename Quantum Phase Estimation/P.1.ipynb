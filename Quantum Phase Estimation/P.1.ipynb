{
 "cells": [
  {
   "cell_type": "code",
   "execution_count": 1,
   "id": "a98d684e-722a-4eb5-80e7-20e4f7c64150",
   "metadata": {},
   "outputs": [],
   "source": [
    "#P.1.1\n",
    "dev = qml.device(\"default.qubit\", wires=2)\n",
    "\n",
    "@qml.qnode(dev)\n",
    "def guess_the_unitary(unitary): \n",
    "    qml.Hadamard(wires=0)\n",
    "    qml.ControlledQubitUnitary(unitary, control_wires=0, wires=1)\n",
    "    qml.Hadamard(wires=0)\n",
    "    return qml.probs(wires=0)\n",
    "\n",
    "U = qml.PauliZ.compute_matrix() \n",
    "U = (-1)*qml.PauliZ.compute_matrix()\n",
    "print(guess_the_unitary(U))"
   ]
  },
  {
   "cell_type": "code",
   "execution_count": 2,
   "id": "0fc7888d-fbc8-4f19-bdeb-505eec8143fc",
   "metadata": {},
   "outputs": [],
   "source": [
    "#P.1.2\n",
    "dev = qml.device(\"default.qubit\", wires=2)\n",
    "        \n",
    "@qml.qnode(dev)\n",
    "def phase_kickback_X(eigenvector):\n",
    "    if eigenvector != \"plus\":\n",
    "\t    qml.PauliX(wires=1)\n",
    "    qml.Hadamard(wires=1)\n",
    "    qml.Hadamard(wires=0)\n",
    "    qml.CNOT(wires=[0,1])\n",
    "    qml.Hadamard(wires=0)\n",
    "    return qml.probs(wires=[0])   \n",
    "\n",
    "print(phase_kickback_X(\"plus\"))\n",
    "print(phase_kickback_X(\"minus\"))\n",
    "eigenvalue_of_X_plus = 1\n",
    "eigenvalue_of_X_minus = -1"
   ]
  }
 ],
 "metadata": {
  "kernelspec": {
   "display_name": "Python 3 (ipykernel)",
   "language": "python",
   "name": "python3"
  },
  "language_info": {
   "codemirror_mode": {
    "name": "ipython",
    "version": 3
   },
   "file_extension": ".py",
   "mimetype": "text/x-python",
   "name": "python",
   "nbconvert_exporter": "python",
   "pygments_lexer": "ipython3",
   "version": "3.11.6"
  }
 },
 "nbformat": 4,
 "nbformat_minor": 5
}
