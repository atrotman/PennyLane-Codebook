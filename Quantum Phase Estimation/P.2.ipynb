{
 "cells": [
  {
   "cell_type": "code",
   "execution_count": null,
   "id": "4d5036c4-a6a2-49d5-a15b-8a2a5fe4c7e4",
   "metadata": {},
   "outputs": [],
   "source": [
    "#P.2.1\n",
    "def U_power_2k(unitary, k): \n",
    "    return np.linalg.matrix_power(unitary,2**k)\n",
    "    pass        \n",
    "\n",
    "U = qml.T.compute_matrix()\n",
    "print(U)\n",
    "U_power_2k(U, 2)"
   ]
  },
  {
   "cell_type": "code",
   "execution_count": null,
   "id": "075d13c4-5e84-4e6c-b867-ce0cf27beab7",
   "metadata": {},
   "outputs": [],
   "source": [
    "#P.2.2\n",
    "estimation_wires = [0, 1, 2]\n",
    "target_wires = [3]\n",
    "\n",
    "def apply_controlled_powers_of_U(unitary):\n",
    "    us = [U_power_2k(unitary, i) for i in reversed(range(len(estimation_wires)))]\n",
    "    for i in range(len(estimation_wires)):\n",
    "\t    qml.ControlledQubitUnitary(us[i], control_wires=estimation_wires[i],wires=target_wires)\n",
    "    pass"
   ]
  },
  {
   "cell_type": "code",
   "execution_count": null,
   "id": "f08fdea3-e20c-4222-b80a-2441bdff606c",
   "metadata": {},
   "outputs": [],
   "source": [
    "#P.2.3\n",
    "dev = qml.device(\"default.qubit\", wires=4)\n",
    "\n",
    "estimation_wires = [0, 1, 2]\n",
    "target_wires = [3]\n",
    "\n",
    "def prepare_eigenvector():\n",
    "    qml.PauliX(wires=target_wires)\n",
    "\n",
    "@qml.qnode(dev)\n",
    "def qpe(unitary):\n",
    "    prepare_eigenvector()\n",
    "    for i in estimation_wires:\n",
    "\t    qml.Hadamard(wires=i)\n",
    "    apply_controlled_powers_of_U(unitary)\n",
    "    qml.adjoint(qml.QFT)(wires=estimation_wires)\n",
    "    return qml.probs(wires=estimation_wires)\n",
    "\n",
    "U = qml.T.compute_matrix()\n",
    "print(qpe(U))"
   ]
  },
  {
   "cell_type": "code",
   "execution_count": null,
   "id": "db479177-d09f-44d0-a407-036a7404658e",
   "metadata": {},
   "outputs": [],
   "source": [
    "#P.2.4\n",
    "estimation_wires = [0, 1, 2]\n",
    "target_wires = [3]\n",
    "\n",
    "def estimate_phase(probs):\n",
    "    increase = 2**-3\n",
    "    array1 = []\n",
    "    for _ in range(8):\n",
    "\t    array1.append(_*increase)\n",
    "    return float(sum(np.array(array1) * probs))\n",
    "\n",
    "U = qml.T.compute_matrix()\n",
    "probs = qpe(U)\n",
    "estimated_phase = estimate_phase(probs)\n",
    "print(estimated_phase)"
   ]
  },
  {
   "cell_type": "code",
   "execution_count": null,
   "id": "fa5fd7f5-02bf-48ee-a92e-b8a609de6237",
   "metadata": {},
   "outputs": [],
   "source": [
    "#P.2.5\n",
    "dev = qml.device(\"default.qubit\", wires=4)\n",
    "estimation_wires = [0, 1, 2]\n",
    "target_wires = [3]\n",
    "\n",
    "def prepare_eigenvector():\n",
    "    qml.PauliX(wires=target_wires)\n",
    "\n",
    "@qml.qnode(dev)\n",
    "def qpe(unitary):\n",
    "    prepare_eigenvector()\n",
    "    qml.QuantumPhaseEstimation(unitary,target_wires, estimation_wires)\n",
    "    return qml.probs(wires=estimation_wires)\n",
    "    pass\n",
    "\n",
    "U = qml.T.compute_matrix()\n",
    "probs = qpe(U)\n",
    "print(estimate_phase(probs))"
   ]
  }
 ],
 "metadata": {
  "kernelspec": {
   "display_name": "Python 3 (ipykernel)",
   "language": "python",
   "name": "python3"
  },
  "language_info": {
   "codemirror_mode": {
    "name": "ipython",
    "version": 3
   },
   "file_extension": ".py",
   "mimetype": "text/x-python",
   "name": "python",
   "nbconvert_exporter": "python",
   "pygments_lexer": "ipython3",
   "version": "3.11.6"
  }
 },
 "nbformat": 4,
 "nbformat_minor": 5
}
