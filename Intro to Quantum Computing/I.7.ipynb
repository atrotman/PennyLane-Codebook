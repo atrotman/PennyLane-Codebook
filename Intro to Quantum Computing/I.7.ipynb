{
 "cells": [
  {
   "cell_type": "code",
   "execution_count": null,
   "id": "e7015a58-124c-4994-9f08-d0a556f43b09",
   "metadata": {},
   "outputs": [],
   "source": [
    "#I.7.1\n",
    "dev = qml.device(\"default.qubit\", wires=1)\n",
    "\n",
    "phi, theta, omega = np.pi/2, np.pi/2, np.pi/2\n",
    "\n",
    "@qml.qnode(dev)\n",
    "def hadamard_with_rz_rx():\n",
    "    qml.RZ(phi, wires=0)\n",
    "    qml.RX(theta, wires=0)\n",
    "    qml.RZ(omega, wires=0)\n",
    "    return qml.state()"
   ]
  },
  {
   "cell_type": "code",
   "execution_count": null,
   "id": "31042998-056e-475b-b2cc-932131f57fa2",
   "metadata": {},
   "outputs": [],
   "source": [
    "#I.7.2\n",
    "\n",
    "dev = qml.device(\"default.qubit\", wires=1)\n",
    "\n",
    "@qml.qnode(dev)\n",
    "def convert_to_rz_rx():\n",
    "    qml.RZ(np.pi/2, wires=0)\n",
    "    qml.RX(np.pi/2, wires=0)\n",
    "    qml.RZ(np.pi/2, wires=0)\n",
    "    qml.RZ(np.pi/2, wires=0)\n",
    "    qml.RZ(-np.pi/4, wires=0)\n",
    "    qml.RX(np.pi, wires=0)\n",
    "    qml.RZ(np.pi, wires=0)\n",
    "    return qml.state()"
   ]
  },
  {
   "cell_type": "code",
   "execution_count": null,
   "id": "388d2811-b6e3-44b9-968b-9e72a2561dbf",
   "metadata": {},
   "outputs": [],
   "source": [
    "#I.7.3\n",
    "dev = qml.device(\"default.qubit\", wires=1)\n",
    "\n",
    "@qml.qnode(dev)\n",
    "def unitary_with_h_and_t():\n",
    "    qml.Hadamard(wires=0)\n",
    "    qml.T(wires=0)\n",
    "    qml.Hadamard(wires=0)\n",
    "    qml.T(wires=0)\n",
    "    qml.T(wires=0)\n",
    "    qml.Hadamard(wires=0)\n",
    "    return qml.state()"
   ]
  }
 ],
 "metadata": {
  "kernelspec": {
   "display_name": "Python 3 (ipykernel)",
   "language": "python",
   "name": "python3"
  },
  "language_info": {
   "codemirror_mode": {
    "name": "ipython",
    "version": 3
   },
   "file_extension": ".py",
   "mimetype": "text/x-python",
   "name": "python",
   "nbconvert_exporter": "python",
   "pygments_lexer": "ipython3",
   "version": "3.11.6"
  }
 },
 "nbformat": 4,
 "nbformat_minor": 5
}
