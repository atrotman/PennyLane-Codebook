{
 "cells": [
  {
   "cell_type": "code",
   "execution_count": null,
   "id": "f324e001-8de3-46a0-89d0-7ccf30b408e6",
   "metadata": {},
   "outputs": [],
   "source": [
    "#I.2.1\n",
    "def my_circuit(theta, phi): \n",
    "    qml.CNOT(wires=[0, 1])\n",
    "    qml.RX(theta, wires=2)\n",
    "    qml.Hadamard(wires=0)\n",
    "    qml.CNOT(wires=[2, 0])\n",
    "    qml.RY(phi, wires=1)\n",
    "    return qml.probs(wires=[0, 1, 2])"
   ]
  },
  {
   "cell_type": "code",
   "execution_count": null,
   "id": "27fac811-4e9b-49ce-b73f-d2854224f11e",
   "metadata": {},
   "outputs": [],
   "source": [
    "#I.2.2\n",
    "dev = qml.device(\"default.qubit\", wires=3)\n",
    "\n",
    "def my_circuit(theta, phi, omega):\n",
    "\n",
    "    qml.RX(theta, wires =[0])\n",
    "    qml.RY(phi, wires = [1])\n",
    "    qml.RZ(omega, wires = [2])\n",
    "    qml.CNOT(wires =[0,1])\n",
    "    qml.CNOT(wires = [1,2])\n",
    "    qml.CNOT(wires =[2,0])\n",
    "    return qml.probs(wires=[0, 1, 2])\n",
    "\n",
    "my_qnode = qml.QNode(my_circuit, dev)\n",
    "\n",
    "theta, phi, omega = 0.1, 0.2, 0.3\n",
    "\n",
    "my_qnode(theta, phi, omega)"
   ]
  },
  {
   "cell_type": "code",
   "execution_count": null,
   "id": "63f66626-a5e6-47f4-877b-0dd080e8c023",
   "metadata": {},
   "outputs": [],
   "source": [
    "#I.2.3\n",
    "dev = qml.device(\"default.qubit\", wires=3)\n",
    "\n",
    "@qml.qnode(dev)\n",
    "\n",
    "def my_circuit(theta, phi, omega):\n",
    "    qml.RX(theta, wires=0)\n",
    "    qml.RY(phi, wires=1)\n",
    "    qml.RZ(omega, wires=2)\n",
    "    qml.CNOT(wires=[0, 1])\n",
    "    qml.CNOT(wires=[1, 2])\n",
    "    qml.CNOT(wires=[2, 0])\n",
    "    return qml.probs(wires=[0, 1, 2])\n",
    "\n",
    "\n",
    "theta, phi, omega = 0.1, 0.2, 0.3\n",
    "\n",
    "my_circuit(theta, phi, omega)"
   ]
  },
  {
   "cell_type": "code",
   "execution_count": null,
   "id": "13f01670-1e67-4137-a7b8-5499f198a92f",
   "metadata": {},
   "outputs": [],
   "source": [
    "#I.2.4\n",
    "dev = qml.device(\"default.qubit\", wires=3)\n",
    "\n",
    "@qml.qnode(dev)\n",
    "def my_circuit(theta, phi, omega):\n",
    "    qml.RX(theta, wires=0)\n",
    "    qml.RY(phi, wires=1)\n",
    "    qml.RZ(omega, wires=2)\n",
    "    qml.CNOT(wires=[0, 1])\n",
    "    qml.CNOT(wires=[1, 2])\n",
    "    qml.CNOT(wires=[2, 0])\n",
    "    return qml.probs(wires=[0, 1, 2])\n",
    "\n",
    "depth = 4"
   ]
  }
 ],
 "metadata": {
  "kernelspec": {
   "display_name": "Python 3 (ipykernel)",
   "language": "python",
   "name": "python3"
  },
  "language_info": {
   "codemirror_mode": {
    "name": "ipython",
    "version": 3
   },
   "file_extension": ".py",
   "mimetype": "text/x-python",
   "name": "python",
   "nbconvert_exporter": "python",
   "pygments_lexer": "ipython3",
   "version": "3.11.6"
  }
 },
 "nbformat": 4,
 "nbformat_minor": 5
}
