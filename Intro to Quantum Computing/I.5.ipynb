{
 "cells": [
  {
   "cell_type": "code",
   "execution_count": null,
   "id": "7f1832f3-10c4-4414-89e6-0b19b4a87e68",
   "metadata": {},
   "outputs": [],
   "source": [
    "#I.5.1\n",
    "dev = qml.device(\"default.qubit\", wires=1)\n",
    "\n",
    "@qml.qnode(dev)\n",
    "def apply_z_to_plus():\n",
    "    qml.Hadamard(wires = 0)\n",
    "    qml.PauliZ(wires = 0)\n",
    "    return qml.state()\n",
    "\n",
    "print(apply_z_to_plus())"
   ]
  },
  {
   "cell_type": "code",
   "execution_count": null,
   "id": "81c5dc27-d94c-472d-9bce-c584a8165c1e",
   "metadata": {},
   "outputs": [],
   "source": [
    "#I.5.2\n",
    "dev = qml.device(\"default.qubit\", wires=1)\n",
    "\n",
    "@qml.qnode(dev)\n",
    "def fake_z():\n",
    "    qml.Hadamard(wires = 0)\n",
    "    qml.RZ(np.pi, wires = 0)\n",
    "    \n",
    "    return qml.state()"
   ]
  },
  {
   "cell_type": "code",
   "execution_count": null,
   "id": "5ab597f6-e9a2-47a8-9fd4-1ad99c0004d7",
   "metadata": {},
   "outputs": [],
   "source": [
    "#I.5.3\n",
    "dev = qml.device(\"default.qubit\", wires=1)\n",
    "\n",
    "@qml.qnode(dev)\n",
    "def many_rotations():\n",
    "    qml.Hadamard (wires = 0)\n",
    "    qml.S(wires = 0)\n",
    "    qml.adjoint(qml.T)(wires=0)\n",
    "    qml.RZ(0.3, wires = 0)\n",
    "    qml.adjoint(qml.S)(wires = 0)\n",
    "\n",
    "    return qml.state()"
   ]
  },
  {
   "cell_type": "code",
   "execution_count": null,
   "id": "f7107800-9366-44e7-9902-b9d15fb552ca",
   "metadata": {},
   "outputs": [],
   "source": [
    "#I.5.4\n",
    "dev = qml.device(\"default.qubit\", wires=3)\n",
    "\n",
    "\n",
    "@qml.qnode(dev)\n",
    "def just_enough_ts():\n",
    "    qml.Hadamard(wires = 0)\n",
    "    qml.Hadamard(wires = 1)\n",
    "    qml.Hadamard(wires = 2)\n",
    "    qml.S(wires = 0)\n",
    "    qml.T(wires = 1)\n",
    "    qml.adjoint(qml.T)(wires = 2)\n",
    "    qml.Hadamard(wires = 0)\n",
    "    qml.Hadamard(wires = 1)\n",
    "    qml.Hadamard(wires = 2)\n",
    "    qml.adjoint(qml.S)(wires = 0)\n",
    "    qml.PauliZ(wires = 1)\n",
    "    qml.adjoint(qml.S)(wires = 2)\n",
    "    qml.adjoint(qml.T)(wires = 2)\n",
    "    qml.Hadamard(wires = 0)\n",
    "    qml.Hadamard(wires = 1)\n",
    "    qml.Hadamard(wires = 2)\n",
    "    return qml.probs(wires = [0,1,2])\n",
    "\n",
    "just_enough_ts()\n",
    "\n",
    "original_depth = 8\n",
    "original_t_count = 13\n",
    "original_t_depth = 6\n",
    "\n",
    "optimal_depth = 6\n",
    "optimal_t_count = 3\n",
    "optimal_t_depth = 2"
   ]
  }
 ],
 "metadata": {
  "kernelspec": {
   "display_name": "Python 3 (ipykernel)",
   "language": "python",
   "name": "python3"
  },
  "language_info": {
   "codemirror_mode": {
    "name": "ipython",
    "version": 3
   },
   "file_extension": ".py",
   "mimetype": "text/x-python",
   "name": "python",
   "nbconvert_exporter": "python",
   "pygments_lexer": "ipython3",
   "version": "3.11.6"
  }
 },
 "nbformat": 4,
 "nbformat_minor": 5
}
