{
 "cells": [
  {
   "cell_type": "code",
   "execution_count": null,
   "id": "712e16ba-7974-43be-a288-67841bb49514",
   "metadata": {},
   "outputs": [],
   "source": [
    "#I.8.1\n",
    "dev = qml.device(\"default.qubit\", wires=1)\n",
    "\n",
    "@qml.qnode(dev)\n",
    "def prepare_state():\n",
    "    qml.Hadamard(wires=0)\n",
    "    for i in range(5):\n",
    "        qml.T(wires=0)\n",
    "    return qml.state()\n"
   ]
  },
  {
   "cell_type": "code",
   "execution_count": null,
   "id": "4eb3ea47-5e19-4788-9c19-48ce4e16cfb8",
   "metadata": {},
   "outputs": [],
   "source": [
    "#I.8.2\n",
    "dev = qml.device(\"default.qubit\", wires=1)\n",
    "\n",
    "@qml.qnode(dev)\n",
    "def prepare_state():\n",
    "    qml.RX(np.pi / 3, wires=0)\n",
    "    return qml.state()"
   ]
  },
  {
   "cell_type": "code",
   "execution_count": null,
   "id": "b3a08517-bc74-4e66-815a-f1ca2ec7b17c",
   "metadata": {},
   "outputs": [],
   "source": [
    "#I.8.3\n",
    "v = np.array([0.52889389-0.14956775j, 0.67262317+0.49545818j])\n",
    "dev = qml.device('default.qubit', wires=1)\n",
    "\n",
    "@qml.qnode(dev)\n",
    "def prepare_state(state=v):\n",
    "    qml.MottonenStatePreparation(state, wires=0)\n",
    "    return qml.state()\n",
    "\n",
    "print(prepare_state(v))\n",
    "print()\n",
    "print(qml.draw(prepare_state, expansion_strategy='device')(v))"
   ]
  }
 ],
 "metadata": {
  "kernelspec": {
   "display_name": "Python 3 (ipykernel)",
   "language": "python",
   "name": "python3"
  },
  "language_info": {
   "codemirror_mode": {
    "name": "ipython",
    "version": 3
   },
   "file_extension": ".py",
   "mimetype": "text/x-python",
   "name": "python",
   "nbconvert_exporter": "python",
   "pygments_lexer": "ipython3",
   "version": "3.11.6"
  }
 },
 "nbformat": 4,
 "nbformat_minor": 5
}
