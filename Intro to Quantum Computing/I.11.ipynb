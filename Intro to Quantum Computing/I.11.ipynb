{
 "cells": [
  {
   "cell_type": "code",
   "execution_count": null,
   "id": "d11bc7e0-cd9d-4333-a6ed-2e102c6c7f2a",
   "metadata": {},
   "outputs": [],
   "source": [
    "#I.11.1\n",
    "dev = qml.device('default.qubit', wires=3)\n",
    "\n",
    "@qml.qnode(dev)\n",
    "def make_basis_state(basis_id):\n",
    "    basis_id_binary = np.base_repr(basis_id).zfill(3)\n",
    "    list_1 = list(basis_id_binary)\n",
    "    final_list = [int(x) for x in list_1]\n",
    "    for i in range(len(final_list)):\n",
    "        if final_list[i] == 1:\n",
    "            qml.PauliX(wires=i)\n",
    "    return qml.state()\n",
    "\n",
    "basis_id = 3\n",
    "print(f\"Output state = {make_basis_state(basis_id)}\")"
   ]
  },
  {
   "cell_type": "code",
   "execution_count": null,
   "id": "0c64c26d-e273-46a0-aa28-4ea85bca1382",
   "metadata": {},
   "outputs": [],
   "source": [
    "#I.11.2\n",
    "dev = qml.device('default.qubit', wires=2)\n",
    "\n",
    "@qml.qnode(dev)\n",
    "def two_qubit_circuit():\n",
    "    qml.Hadamard(0)\n",
    "    qml.PauliX(1)\n",
    "    return (qml.expval(qml.PauliY(0)), qml.expval(qml.PauliZ(1)))\n",
    "\n",
    "print(two_qubit_circuit())"
   ]
  },
  {
   "cell_type": "code",
   "execution_count": null,
   "id": "83320957-f85d-48d3-a61c-b1533e89fd51",
   "metadata": {},
   "outputs": [],
   "source": [
    "#I.11.3\n",
    "dev = qml.device(\"default.qubit\", wires=2)\n",
    "\n",
    "@qml.qnode(dev)\n",
    "def create_one_minus():\n",
    "    qml.PauliX(0)\n",
    "    qml.PauliX(1)\n",
    "    qml.Hadamard(1)\n",
    "    return qml.expval(qml.PauliZ(0) @ qml.PauliX(1))\n",
    "\n",
    "print(create_one_minus())"
   ]
  },
  {
   "cell_type": "code",
   "execution_count": null,
   "id": "8fe2c2b0-7371-4438-9fd4-66b73c78f34f",
   "metadata": {},
   "outputs": [],
   "source": [
    "#I.11.4\n",
    "dev = qml.device('default.qubit', wires=2)\n",
    "\n",
    "@qml.qnode(dev)\n",
    "def circuit_1(theta):\n",
    "    qml.RX(theta, wires=0)\n",
    "    qml.RY(2 * theta, wires=1) \n",
    "    return (qml.expval(qml.PauliZ(0)), qml.expval(qml.PauliZ(1)))\n",
    "\n",
    "@qml.qnode(dev)\n",
    "def circuit_2(theta):\n",
    "    qml.RX(theta, wires=0)\n",
    "    qml.RY(2 * theta, wires=1)\n",
    "    return qml.expval(qml.PauliZ(0) @ qml.PauliZ(1))\n",
    "\n",
    "def zi_iz_combination(ZI_results, IZ_results):\n",
    "    combined_results = np.zeros(len(ZI_results))\n",
    "    return ZI_results * IZ_results\n",
    "    return combined_results\n",
    "\n",
    "theta = np.linspace(0, 2 * np.pi, 100)\n",
    "\n",
    "circuit_1_results = np.array([circuit_1(t) for t in theta])\n",
    "\n",
    "ZI_results = circuit_1_results[:, 0]\n",
    "IZ_results = circuit_1_results[:, 1]\n",
    "combined_results = zi_iz_combination(ZI_results, IZ_results)\n",
    "\n",
    "ZZ_results = np.array([circuit_2(t) for t in theta])\n",
    "\n",
    "plot = plotter(theta, ZI_results, IZ_results, ZZ_results, combined_results)\n"
   ]
  }
 ],
 "metadata": {
  "kernelspec": {
   "display_name": "Python 3 (ipykernel)",
   "language": "python",
   "name": "python3"
  },
  "language_info": {
   "codemirror_mode": {
    "name": "ipython",
    "version": 3
   },
   "file_extension": ".py",
   "mimetype": "text/x-python",
   "name": "python",
   "nbconvert_exporter": "python",
   "pygments_lexer": "ipython3",
   "version": "3.11.6"
  }
 },
 "nbformat": 4,
 "nbformat_minor": 5
}
