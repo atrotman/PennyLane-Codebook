{
 "cells": [
  {
   "cell_type": "code",
   "execution_count": null,
   "id": "ded76690-ad2c-4984-9d1c-227cd3047e65",
   "metadata": {},
   "outputs": [],
   "source": [
    "#I.6.1\n",
    "dev = qml.device(\"default.qubit\", wires=1)\n",
    "\n",
    "@qml.qnode(dev)\n",
    "def apply_rx_pi(state):\n",
    "    if state == 1:\n",
    "        qml.PauliX(wires=0)\n",
    "    qml.RX(np.pi, wires = 0)\n",
    "    return qml.state()\n",
    "\n",
    "print(apply_rx_pi(0))\n",
    "print(apply_rx_pi(1))"
   ]
  },
  {
   "cell_type": "code",
   "execution_count": null,
   "id": "10676609-09f5-47b8-accf-e4ef8984ba71",
   "metadata": {},
   "outputs": [],
   "source": [
    "#I.6.2\n",
    "dev = qml.device('default.qubit', wires=1)\n",
    "\n",
    "@qml.qnode(dev)\n",
    "def apply_rx(theta, state):   \n",
    "    qml.RX(theta, wires =0)\n",
    "    return qml.state()\n",
    "\n",
    "angles = np.linspace(0, 4*np.pi, 200)\n",
    "output_states = np.array([apply_rx(t, 0) for t in angles])\n",
    "\n",
    "plot = plotter(angles, output_states)"
   ]
  },
  {
   "cell_type": "code",
   "execution_count": null,
   "id": "90d682d6-01eb-4e31-a986-9c40841e296a",
   "metadata": {},
   "outputs": [],
   "source": [
    "#I.6.3\n",
    "def apply_ry(theta, state):  \n",
    "    qml.RY(theta, wires =0)\n",
    "    return qml.state()\n",
    "\n",
    "angles = np.linspace(0, 4*np.pi, 200)\n",
    "output_states = np.array([apply_ry(t, 0) for t in angles])\n",
    "\n",
    "plot = plotter(angles, output_states)"
   ]
  }
 ],
 "metadata": {
  "kernelspec": {
   "display_name": "Python 3 (ipykernel)",
   "language": "python",
   "name": "python3"
  },
  "language_info": {
   "codemirror_mode": {
    "name": "ipython",
    "version": 3
   },
   "file_extension": ".py",
   "mimetype": "text/x-python",
   "name": "python",
   "nbconvert_exporter": "python",
   "pygments_lexer": "ipython3",
   "version": "3.11.6"
  }
 },
 "nbformat": 4,
 "nbformat_minor": 5
}
