{
 "cells": [
  {
   "cell_type": "code",
   "execution_count": null,
   "id": "a41fad3d-7237-4db4-925f-270ee25f3c70",
   "metadata": {},
   "outputs": [],
   "source": [
    "#I.1.1\n",
    "ket_0 = np.array([1, 0])\n",
    "ket_1 = np.array([0, 1])\n",
    "\n",
    "def normalize_state(alpha, beta):\n",
    "    norm = np.sqrt((np.abs(alpha))**2+(np.abs(beta)**2))\n",
    "    return (1/norm)*np.array([alpha,beta])"
   ]
  },
  {
   "cell_type": "code",
   "execution_count": null,
   "id": "4ce9a491-92d9-46bb-9061-ff01adc21d9c",
   "metadata": {},
   "outputs": [],
   "source": [
    "#I.1.2\n",
    "def inner_product(state_1, state_2):\n",
    "    ip = (np.conj(state_1[0])*state_2[0] + np.conj(state_1[1])*state_2[1])\n",
    "    return ip  \n",
    "\n",
    "ket_0 = np.array([1, 0])\n",
    "ket_1 = np.array([0, 1])\n",
    "\n",
    "print(f\"<0|0> = {inner_product(ket_0, ket_0)}\")\n",
    "print(f\"<0|1> = {inner_product(ket_0, ket_1)}\")\n",
    "print(f\"<1|0> = {inner_product(ket_1, ket_0)}\")\n",
    "print(f\"<1|1> = {inner_product(ket_1, ket_1)}\")"
   ]
  },
  {
   "cell_type": "code",
   "execution_count": null,
   "id": "381a2265-91b3-4dd0-afba-f56ee69f318d",
   "metadata": {},
   "outputs": [],
   "source": [
    "#I.1.3\n",
    "def measure_state(state, num_meas):\n",
    "    return np.random.choice(np.array([0,1]), num_meas, p = [np.abs(state[0])**2, np.abs(state[1])**2])\n",
    "\n",
    "state = np.array([0.8,0.6])\n",
    "print(measure_state(state,10))"
   ]
  },
  {
   "cell_type": "code",
   "execution_count": null,
   "id": "ca441f42-537a-4f91-b18e-3de65268663d",
   "metadata": {},
   "outputs": [],
   "source": [
    "#I.1.4\n",
    "U = np.array([[1, 1], [1, -1]]) / np.sqrt(2)\n",
    "\n",
    "def apply_u(state):\n",
    "    return np.matmul(U,state)"
   ]
  },
  {
   "cell_type": "code",
   "execution_count": null,
   "id": "f3eccc24-6b62-47ba-8eca-4786cbb65915",
   "metadata": {},
   "outputs": [],
   "source": [
    "#I.1.5\n",
    "U = np.array([[1, 1], [1, -1]]) / np.sqrt(2)\n",
    "\n",
    "def initialize_state():\n",
    "    return np.array([1,0])\n",
    "\n",
    "\n",
    "def apply_u(state):\n",
    "    return np.dot(U, state)\n",
    "\n",
    "\n",
    "def measure_state(state, num_meas):\n",
    "    p_alpha = np.abs(state[0]) ** 2\n",
    "    p_beta = np.abs(state[1]) ** 2\n",
    "    meas_outcome = np.random.choice([0, 1], p=[p_alpha, p_beta], size=num_meas)\n",
    "    return meas_outcome"
   ]
  }
 ],
 "metadata": {
  "kernelspec": {
   "display_name": "Python 3 (ipykernel)",
   "language": "python",
   "name": "python3"
  },
  "language_info": {
   "codemirror_mode": {
    "name": "ipython",
    "version": 3
   },
   "file_extension": ".py",
   "mimetype": "text/x-python",
   "name": "python",
   "nbconvert_exporter": "python",
   "pygments_lexer": "ipython3",
   "version": "3.11.6"
  }
 },
 "nbformat": 4,
 "nbformat_minor": 5
}
