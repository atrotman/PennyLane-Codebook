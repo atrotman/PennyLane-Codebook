{
 "cells": [
  {
   "cell_type": "code",
   "execution_count": null,
   "id": "9d495d45-bc7f-49de-b159-673c8d839203",
   "metadata": {},
   "outputs": [],
   "source": [
    "#I.12.1\n",
    "dev = qml.device('default.qubit', wires=2)\n",
    "\n",
    "@qml.qnode(dev)\n",
    "def apply_cnot(basis_id):\n",
    "    # Prepare the basis state |basis_id>\n",
    "    bits = [int(x) for x in np.binary_repr(basis_id, width=dev.num_wires)]\n",
    "    qml.BasisStatePreparation(bits, wires=[0, 1])\n",
    "    qml.CNOT(wires = [0,1])\n",
    "    return qml.state()\n",
    "\n",
    "cnot_truth_table = {\n",
    "    \"00\" : \"00\",\n",
    "    \"01\" : \"01\",\n",
    "    \"10\" : \"11\",\n",
    "    \"11\" : \"10\"\n",
    "}\n",
    "\n",
    "print(apply_cnot(0))"
   ]
  },
  {
   "cell_type": "code",
   "execution_count": null,
   "id": "2a0c517b-37c4-42b8-bdff-223a840ed12c",
   "metadata": {},
   "outputs": [],
   "source": [
    "#I.12.2\n",
    "dev = qml.device(\"default.qubit\", wires=2)\n",
    "\n",
    "@qml.qnode(dev)\n",
    "def apply_h_cnot():\n",
    "    qml.Hadamard(0)\n",
    "    qml.CNOT(wires =[1,0])\n",
    "    return qml.state()\n",
    "    \n",
    "print(apply_h_cnot())\n",
    "state_status = \"entangled\""
   ]
  },
  {
   "cell_type": "code",
   "execution_count": null,
   "id": "230f1f0e-8436-47bd-abb8-48108e7b22f8",
   "metadata": {},
   "outputs": [],
   "source": [
    "#I.12.3\n",
    "dev = qml.device('default.qubit', wires=3)\n",
    "\n",
    "@qml.qnode(dev)\n",
    "def controlled_rotations(theta, phi, omega):\n",
    "    qml.Hadamard(wires=0)\n",
    "    qml.CRX(theta, wires = [0,1])\n",
    "    qml.CRY(phi, wires = [1,2])\n",
    "    qml.CRZ(omega, wires = [2,0])\n",
    "    return qml.probs(wires = [0,1,2])\n",
    "\n",
    "theta, phi, omega = 0.1, 0.2, 0.3"
   ]
  }
 ],
 "metadata": {
  "kernelspec": {
   "display_name": "Python 3 (ipykernel)",
   "language": "python",
   "name": "python3"
  },
  "language_info": {
   "codemirror_mode": {
    "name": "ipython",
    "version": 3
   },
   "file_extension": ".py",
   "mimetype": "text/x-python",
   "name": "python",
   "nbconvert_exporter": "python",
   "pygments_lexer": "ipython3",
   "version": "3.11.6"
  }
 },
 "nbformat": 4,
 "nbformat_minor": 5
}
