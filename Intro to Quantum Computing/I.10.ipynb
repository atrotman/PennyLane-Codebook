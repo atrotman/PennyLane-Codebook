{
 "cells": [
  {
   "cell_type": "code",
   "execution_count": null,
   "id": "9aa344e8-3294-4457-801b-ca81fd0985d5",
   "metadata": {},
   "outputs": [],
   "source": [
    "#I.10.1\n",
    "dev = qml.device('default.qubit', wires=1)\n",
    "\n",
    "@qml.qnode(dev)\n",
    "def circuit():\n",
    "    qml.RX(np.pi/4, 0)\n",
    "    qml.Hadamard(0)\n",
    "    qml.PauliZ(0)\n",
    "    return qml.expval(qml.PauliY(0))\n",
    "\n",
    "print(circuit())"
   ]
  },
  {
   "cell_type": "code",
   "execution_count": null,
   "id": "c089410a-b0f1-4cf8-8fc1-72a9beb26228",
   "metadata": {},
   "outputs": [],
   "source": [
    "#I.10.2\n",
    "shot_results = [0,0,0,0,0]\n",
    "shot_values = [100, 1000, 10000, 100000, 1000000]\n",
    "j = 0\n",
    "\n",
    "for i in shot_values: \n",
    "    dev = qml.device('default.qubit', wires = 1, shots = i)\n",
    "    @qml.qnode(dev)\n",
    "    def device():\n",
    "        qml.RX(np.pi / 4, wires=0)\n",
    "        qml.Hadamard(wires=0)\n",
    "        qml.PauliZ(wires=0)\n",
    "        return qml.expval(qml.PauliY(wires=0))\n",
    "    \n",
    "    shot_results[j] = device()\n",
    "    j+=1\n",
    "\n",
    "print(qml.math.unwrap(shot_results))"
   ]
  },
  {
   "cell_type": "code",
   "execution_count": null,
   "id": "68d880bb-5b24-4aed-b0e2-d7632beafdbc",
   "metadata": {},
   "outputs": [],
   "source": [
    "#I.10.3\n",
    "dev = qml.device(\"default.qubit\", wires=1, shots=100000)\n",
    "\n",
    "@qml.qnode(dev)\n",
    "def circuit():\n",
    "    qml.RX(np.pi/4, wires=0)\n",
    "    qml.Hadamard(wires=0)\n",
    "    qml.PauliZ(wires=0)\n",
    "    return qml.sample(qml.PauliY(0))\n",
    "\n",
    "\n",
    "def compute_expval_from_samples(samples):\n",
    "    estimated_expval = 0\n",
    "    plus = minus = 0\n",
    "    for i in range(len(samples)):\n",
    "        if samples[i] == 1:\n",
    "            plus+=1\n",
    "        else:\n",
    "            minus+=1\n",
    "    return ((-1)*minus + plus) / len(samples)\n",
    "\n",
    "samples = circuit()\n",
    "print(compute_expval_from_samples(samples))"
   ]
  },
  {
   "cell_type": "code",
   "execution_count": null,
   "id": "11b1ba56-b244-4ad6-b42d-b033ead4c78b",
   "metadata": {},
   "outputs": [],
   "source": [
    "#I.10.4\n",
    "def variance_experiment(n_shots):\n",
    "    n_trials = 100\n",
    "    dev = qml.device('default.qubit', 1, shots = n_shots)\n",
    "    @qml.qnode(dev)\n",
    "    def circuit():\n",
    "        qml.Hadamard(wires=0)\n",
    "        return qml.expval(qml.PauliZ(wires=0))\n",
    "\n",
    "    arr = [0] * n_trials\n",
    "    for i in range(n_trials):\n",
    "        arr[i] = circuit()\n",
    "    return np.var(arr)\n",
    "\n",
    "def variance_scaling(n_shots):\n",
    "    estimated_variance = 0\n",
    "    estimated_variance = 1 / n_shots\n",
    "    return estimated_variance\n",
    "\n",
    "shot_vals = [10, 20, 40, 100, 200, 400, 1000, 2000, 4000]\n",
    "\n",
    "results_experiment = [variance_experiment(shots) for shots in shot_vals]\n",
    "results_scaling = [variance_scaling(shots) for shots in shot_vals]\n",
    "plot = plotter(shot_vals, results_experiment, results_scaling)"
   ]
  }
 ],
 "metadata": {
  "kernelspec": {
   "display_name": "Python 3 (ipykernel)",
   "language": "python",
   "name": "python3"
  },
  "language_info": {
   "codemirror_mode": {
    "name": "ipython",
    "version": 3
   },
   "file_extension": ".py",
   "mimetype": "text/x-python",
   "name": "python",
   "nbconvert_exporter": "python",
   "pygments_lexer": "ipython3",
   "version": "3.11.6"
  }
 },
 "nbformat": 4,
 "nbformat_minor": 5
}
