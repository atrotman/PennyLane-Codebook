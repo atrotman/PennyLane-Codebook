{
 "cells": [
  {
   "cell_type": "code",
   "execution_count": null,
   "id": "1ab4ab4b-75c3-43d4-b05f-82de24fa3c33",
   "metadata": {},
   "outputs": [],
   "source": [
    "#I.9.1\n",
    "dev = qml.device(\"default.qubit\", wires=1)\n",
    "\n",
    "@qml.qnode(dev)\n",
    "def apply_h_and_measure(state):\n",
    "    if state == 1:\n",
    "        qml.PauliX(wires=0)    \n",
    "    qml.Hadamard(wires = 0)\n",
    "    return qml.probs(wires = 0)\n",
    "\n",
    "print(apply_h_and_measure(0))\n",
    "print(apply_h_and_measure(1))\n"
   ]
  },
  {
   "cell_type": "code",
   "execution_count": null,
   "id": "8084a01d-dea8-49d4-b668-7377d9745160",
   "metadata": {},
   "outputs": [],
   "source": [
    "#I.9.2\n",
    "def prepare_psi():\n",
    "    qml.RX(np.pi / 3, wires = 0)\n",
    "    qml.PauliX(wires = 0)\n",
    "\n",
    "def y_basis_rotation():\n",
    "    qml.Hadamard(wires = 0)\n",
    "    qml.S(wires = 0)"
   ]
  },
  {
   "cell_type": "code",
   "execution_count": null,
   "id": "d3b174f4-bcfc-44c9-86d2-7caf8ff0285d",
   "metadata": {},
   "outputs": [],
   "source": [
    "#I.9.3\n",
    "dev = qml.device(\"default.qubit\", wires=1)\n",
    "\n",
    "@qml.qnode(dev)\n",
    "def measure_in_y_basis():\n",
    "    qml.adjoint(y_basis_rotation)()\n",
    "    return qml.probs(wires = 0) \n",
    "\n",
    "print(measure_in_y_basis())"
   ]
  }
 ],
 "metadata": {
  "kernelspec": {
   "display_name": "Python 3 (ipykernel)",
   "language": "python",
   "name": "python3"
  },
  "language_info": {
   "codemirror_mode": {
    "name": "ipython",
    "version": 3
   },
   "file_extension": ".py",
   "mimetype": "text/x-python",
   "name": "python",
   "nbconvert_exporter": "python",
   "pygments_lexer": "ipython3",
   "version": "3.11.6"
  }
 },
 "nbformat": 4,
 "nbformat_minor": 5
}
