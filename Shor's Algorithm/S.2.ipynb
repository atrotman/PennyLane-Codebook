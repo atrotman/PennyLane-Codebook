{
 "cells": [
  {
   "cell_type": "code",
   "execution_count": null,
   "id": "2543bbeb-89fd-4587-bdee-5decc09e7683",
   "metadata": {},
   "outputs": [],
   "source": [
    "#S.2.1\n",
    "def nontrivial_square_root(m):\n",
    "    ref = np.mod(1, m)\n",
    "    for i in range(2, m+1):\n",
    "        if np.mod(i**2, m) == ref:\n",
    "            return i\n",
    "        \n",
    "print(nontrivial_square_root(391))"
   ]
  },
  {
   "cell_type": "code",
   "execution_count": null,
   "id": "0295a2e3-4d72-4fb8-9ef7-b68cde2e6dbd",
   "metadata": {},
   "outputs": [],
   "source": [
    "#S.2.2\n",
    "def factorization(N):\n",
    "    val = nontrivial_square_root(N)\n",
    "    return [np.gcd(val-1, N), np.gcd(val+1, N)]\n",
    "\n",
    "N = 391\n",
    "p, q = factorization(N)\n",
    "print(f\"{N} = {p} x {q}\")"
   ]
  }
 ],
 "metadata": {
  "kernelspec": {
   "display_name": "Python 3 (ipykernel)",
   "language": "python",
   "name": "python3"
  },
  "language_info": {
   "codemirror_mode": {
    "name": "ipython",
    "version": 3
   },
   "file_extension": ".py",
   "mimetype": "text/x-python",
   "name": "python",
   "nbconvert_exporter": "python",
   "pygments_lexer": "ipython3",
   "version": "3.11.6"
  }
 },
 "nbformat": 4,
 "nbformat_minor": 5
}
