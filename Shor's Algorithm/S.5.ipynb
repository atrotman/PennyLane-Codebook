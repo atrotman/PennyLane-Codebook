{
 "cells": [
  {
   "cell_type": "code",
   "execution_count": null,
   "id": "0d69e762-7348-4e10-b46d-37469f716a9d",
   "metadata": {},
   "outputs": [],
   "source": [
    "#S.5.1\n",
    "def create_keys(p, q):\n",
    "    N = p*q\n",
    "    theta = (p-1)*(q-1)\n",
    "    while(True):\n",
    "        epsilon = np.random.randint(2,N)\n",
    "        if np.gcd(theta, epsilon) == 1:\n",
    "            break\n",
    "    return (epsilon, pow(epsilon, -1, theta), N)\n",
    "\n",
    "print(create_keys(3,53))"
   ]
  },
  {
   "cell_type": "code",
   "execution_count": null,
   "id": "730700b3-2617-4e14-94e7-3ad3efb658d6",
   "metadata": {},
   "outputs": [],
   "source": [
    "#S.5.2\n",
    "def decode(d,N, code):\n",
    "    message = \"\"\n",
    "    for chunk in code:\n",
    "        val = pow(chunk, d, N)\n",
    "        message += chr(val)\n",
    "    return message\n",
    "\n",
    "code =  [129827,\n",
    "         294117,\n",
    "         126201,\n",
    "         157316,\n",
    "         270984,\n",
    "         126201,\n",
    "         157316,\n",
    "         270984,\n",
    "         209269,\n",
    "         163084,\n",
    "         270984,\n",
    "         157316,\n",
    "         95353,\n",
    "         289896,\n",
    "         49377,\n",
    "         95353,\n",
    "         48004,\n",
    "         270984,\n",
    "         209269,\n",
    "         95353,\n",
    "         157316,\n",
    "         157316,\n",
    "         210673,\n",
    "         267093,\n",
    "         95353]\n",
    "\n",
    "N = 378221\n",
    "d = 150797\n",
    "\n",
    "print(decode(d, N, code))"
   ]
  }
 ],
 "metadata": {
  "kernelspec": {
   "display_name": "Python 3 (ipykernel)",
   "language": "python",
   "name": "python3"
  },
  "language_info": {
   "codemirror_mode": {
    "name": "ipython",
    "version": 3
   },
   "file_extension": ".py",
   "mimetype": "text/x-python",
   "name": "python",
   "nbconvert_exporter": "python",
   "pygments_lexer": "ipython3",
   "version": "3.11.6"
  }
 },
 "nbformat": 4,
 "nbformat_minor": 5
}
