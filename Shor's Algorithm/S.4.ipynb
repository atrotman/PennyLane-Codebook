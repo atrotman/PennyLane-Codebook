{
 "cells": [
  {
   "cell_type": "code",
   "execution_count": null,
   "id": "c8542e1c-8ac2-44bf-99b7-78d46246685d",
   "metadata": {},
   "outputs": [],
   "source": [
    "#S.4.1\n",
    "def is_coprime(a, N):  \n",
    "    return np.gcd(a, N) == 1\n",
    "\n",
    "def is_odd(r):\n",
    "    return np.mod(r, 2) == 1\n",
    "    \n",
    "def is_not_one(x, N):\n",
    "    if np.mod(x+1, N) == 0:\n",
    "        return False\n",
    "    if np.mod(x-1, N) == 0:\n",
    "        return False\n",
    "    return True\n",
    "\n",
    "print(\"3 and 12 are coprime numbers: \", is_coprime(3,12))\n",
    "print(\"5 is odd: \", is_odd(5))\n",
    "print(\"4 is not one mod 5: \",is_not_one(4,5))"
   ]
  },
  {
   "cell_type": "code",
   "execution_count": null,
   "id": "b9c38db7-efc5-4487-8b0b-5addcd9c1beb",
   "metadata": {},
   "outputs": [],
   "source": [
    "#S.4.2\n",
    "def shor(N):\n",
    "    for a in range(2, N-1):\n",
    "        if not is_coprime(a, N):\n",
    "            p = np.gcd(a, N)\n",
    "            return [p, N/p]\n",
    "        else:\n",
    "            matrix = get_matrix_a_mod_N(a, N)\n",
    "            r = get_period(matrix, N)\n",
    "            if not is_odd(r):\n",
    "                x = int(a**(r/2))\n",
    "                if is_not_one(x, N):\n",
    "                    return [np.gcd(x-1, N), np.gcd(x+1, N)]\n",
    "                    \n",
    "print(shor(21))"
   ]
  }
 ],
 "metadata": {
  "kernelspec": {
   "display_name": "Python 3 (ipykernel)",
   "language": "python",
   "name": "python3"
  },
  "language_info": {
   "codemirror_mode": {
    "name": "ipython",
    "version": 3
   },
   "file_extension": ".py",
   "mimetype": "text/x-python",
   "name": "python",
   "nbconvert_exporter": "python",
   "pygments_lexer": "ipython3",
   "version": "3.11.6"
  }
 },
 "nbformat": 4,
 "nbformat_minor": 5
}
