{
 "cells": [
  {
   "cell_type": "code",
   "execution_count": 1,
   "id": "37ac6209-c7cd-41b1-829c-9a1995931db8",
   "metadata": {},
   "outputs": [],
   "source": [
    "#S.3.1\n",
    "def U():\n",
    "    qml.SWAP(wires=[2,3])\n",
    "    qml.SWAP(wires=[1,2])\n",
    "    qml.SWAP(wires=[0,1])\n",
    "    for i in range(4):\n",
    "        qml.PauliX(wires=i)\n",
    "\n",
    "matrix = get_unitary_matrix(U, wire_order=range(4))()\n",
    "n_target_wires = 4\n",
    "target_wires = range(n_target_wires)\n",
    "n_estimation_wires = 3\n",
    "estimation_wires = range(4, 4 + n_estimation_wires)\n",
    "dev = qml.device(\"default.qubit\", shots=1, wires=n_target_wires+n_estimation_wires)\n",
    "\n",
    "@qml.qnode(dev)\n",
    "def circuit(matrix):\n",
    "    qml.PauliX(wires=3)\n",
    "    qml.templates.QuantumPhaseEstimation(matrix, target_wires=target_wires,\n",
    "        estimation_wires=estimation_wires)\n",
    "    return qml.sample(wires=estimation_wires)\n",
    "\n",
    "def get_phase(matrix):\n",
    "    binary = \"\".join([str(b) for b in circuit(matrix)])\n",
    "    return int(binary, 2) / 2 ** n_estimation_wires\n",
    "\n",
    "for i in range(5):\n",
    "    print(circuit(matrix))\n",
    "    print(f\"shot {i+1}, phase:\",get_phase(matrix))"
   ]
  },
  {
   "cell_type": "code",
   "execution_count": 2,
   "id": "23877d3b-d7d3-46d8-b3ba-17020dc36a24",
   "metadata": {},
   "outputs": [],
   "source": [
    "#S.3.2\n",
    "def U():\n",
    "    qml.SWAP(wires=[2,3])\n",
    "    qml.SWAP(wires=[1,2])\n",
    "    qml.SWAP(wires=[0,1])\n",
    "    for i in range(4):\n",
    "        qml.PauliX(wires=i)\n",
    "\n",
    "matrix = get_unitary_matrix(U, wire_order=range(4))()\n",
    "target_wires = range(4)\n",
    "n_estimation_wires = 3\n",
    "estimation_wires = range(4, 4 + n_estimation_wires)\n",
    "\n",
    "def get_period(matrix):\n",
    "    shots = 10\n",
    "    max_val = 0\n",
    "    for j in range(shots):\n",
    "        x = get_phase(matrix)\n",
    "        val = Fraction(x).limit_denominator(2 ** n_estimation_wires).denominator\n",
    "        if val > max_val:\n",
    "            max_val = val\n",
    "    return max_val\n",
    "    \n",
    "print(get_period(matrix))"
   ]
  },
  {
   "cell_type": "code",
   "execution_count": null,
   "id": "d376863a-b970-48a6-916f-6c77a983aeaf",
   "metadata": {},
   "outputs": [],
   "source": [
    "#S.3.3\n",
    "def U():\n",
    "    qml.SWAP(wires=[2,3])\n",
    "    qml.SWAP(wires=[1,2])\n",
    "    qml.SWAP(wires=[0,1])\n",
    "    for i in range(4):\n",
    "        qml.PauliX(wires=i)\n",
    "\n",
    "dev = qml.device(\"default.qubit\", wires=4)\n",
    "\n",
    "@qml.qnode(dev)\n",
    "def circuit():\n",
    "    qml.PauliX(wires=3)\n",
    "    for i in range(4):\n",
    "        U()\n",
    "    return qml.probs(wires=range(4))\n",
    "    \n",
    "print(circuit())"
   ]
  }
 ],
 "metadata": {
  "kernelspec": {
   "display_name": "Python 3 (ipykernel)",
   "language": "python",
   "name": "python3"
  },
  "language_info": {
   "codemirror_mode": {
    "name": "ipython",
    "version": 3
   },
   "file_extension": ".py",
   "mimetype": "text/x-python",
   "name": "python",
   "nbconvert_exporter": "python",
   "pygments_lexer": "ipython3",
   "version": "3.11.6"
  }
 },
 "nbformat": 4,
 "nbformat_minor": 5
}
