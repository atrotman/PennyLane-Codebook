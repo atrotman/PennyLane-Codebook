{
 "cells": [
  {
   "cell_type": "code",
   "execution_count": 1,
   "id": "2df6d3a2-519d-459e-93ee-80104b90e34a",
   "metadata": {},
   "outputs": [],
   "source": [
    "#S.1.1\n",
    "def is_equivalent(a, b, m):\n",
    "    return np.mod(a-b,m) == 0\n",
    "    \n",
    "print(f\"13 = 8 (3) is {is_equivalent(13, 8, 3)}\")\n",
    "print(f\"13 = 7 (6) is {is_equivalent(13, 7, 6)}\")"
   ]
  },
  {
   "cell_type": "code",
   "execution_count": null,
   "id": "81c109c5-ba8f-443a-a63b-c4b83bc7f293",
   "metadata": {},
   "outputs": [],
   "source": [
    "#S.1.2\n",
    "def has_inverse(a, m):\n",
    "    ref = np.mod(1, m)\n",
    "    for i in range(1, m+1):\n",
    "       if (np.mod(a*i, m) == ref):\n",
    "           return True\n",
    "    return False\n",
    "\n",
    "print(\"(5,15)\", has_inverse(5,15))\n",
    "print(\"(7,15)\", has_inverse(7,15))"
   ]
  }
 ],
 "metadata": {
  "kernelspec": {
   "display_name": "Python 3 (ipykernel)",
   "language": "python",
   "name": "python3"
  },
  "language_info": {
   "codemirror_mode": {
    "name": "ipython",
    "version": 3
   },
   "file_extension": ".py",
   "mimetype": "text/x-python",
   "name": "python",
   "nbconvert_exporter": "python",
   "pygments_lexer": "ipython3",
   "version": "3.11.6"
  }
 },
 "nbformat": 4,
 "nbformat_minor": 5
}
