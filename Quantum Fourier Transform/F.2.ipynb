{
 "cells": [
  {
   "cell_type": "code",
   "execution_count": null,
   "id": "44ab41df-d3e5-4722-9279-835f0079140c",
   "metadata": {},
   "outputs": [],
   "source": [
    "#F.2.1\n",
    "dev = qml.device(\"default.qubit\", wires=1)\n",
    "\n",
    "@qml.qnode(dev)\n",
    "def one_qubit_QFT(basis_id):\n",
    "    # Prepare the basis state |basis_id>\n",
    "    bits = [int(x) for x in np.binary_repr(basis_id, width=dev.num_wires)]\n",
    "    qml.BasisStatePreparation(bits, wires=[0])\n",
    "    qml.Hadamard(wires = 0)\n",
    "    return qml.state()"
   ]
  },
  {
   "cell_type": "code",
   "execution_count": 2,
   "id": "8bcba295-1ebf-4f39-ba6a-07ce27ea8f56",
   "metadata": {},
   "outputs": [],
   "source": [
    "#F.2.2\n",
    "n_bits = 2\n",
    "dev = qml.device(\"default.qubit\", wires=n_bits)\n",
    "\n",
    "@qml.qnode(dev)\n",
    "def two_qubit_QFT(basis_id):\n",
    "    bits = [int(x) for x in np.binary_repr(basis_id, width=dev.num_wires)]\n",
    "    qml.BasisStatePreparation(bits, wires=[0, 1])\n",
    "    def omega(n):\n",
    "        return np.exp(2 * np.pi * 1j/4 * n)\n",
    "    U_QFT = (1/2) * np.array([[1,1,1,1], [1, omega(1), omega(2), omega(3)], \n",
    "    [1, omega(2), omega(4), omega(6)], [1, omega(3), omega(6), omega(9)]])\n",
    "    qml.QubitUnitary(U_QFT, wires = [0,1])\n",
    "    return qml.state()"
   ]
  },
  {
   "cell_type": "code",
   "execution_count": null,
   "id": "53801255-6469-4456-9ba2-aa4b33cb98ba",
   "metadata": {},
   "outputs": [],
   "source": [
    "#F.2.3\n",
    "dev = qml.device(\"default.qubit\", wires=2)\n",
    "\n",
    "@qml.qnode(dev)\n",
    "def decompose_two_qubit_QFT(basis_id):\n",
    "    bits = [int(x) for x in np.binary_repr(basis_id, width=dev.num_wires)]\n",
    "    qml.BasisStatePreparation(bits, wires=[0, 1])\n",
    "    qml.Hadamard(wires = 0)\n",
    "    qml.ctrl(qml.S(wires=0), control = 1)\n",
    "    qml.Hadamard(wires = 1)\n",
    "    qml.SWAP(wires = [0,1])\n",
    "    return qml.state()\n",
    "    pass"
   ]
  }
 ],
 "metadata": {
  "kernelspec": {
   "display_name": "Python 3 (ipykernel)",
   "language": "python",
   "name": "python3"
  },
  "language_info": {
   "codemirror_mode": {
    "name": "ipython",
    "version": 3
   },
   "file_extension": ".py",
   "mimetype": "text/x-python",
   "name": "python",
   "nbconvert_exporter": "python",
   "pygments_lexer": "ipython3",
   "version": "3.11.6"
  }
 },
 "nbformat": 4,
 "nbformat_minor": 5
}
