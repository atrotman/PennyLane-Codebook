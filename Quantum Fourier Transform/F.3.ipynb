{
 "cells": [
  {
   "cell_type": "code",
   "execution_count": null,
   "id": "60324498-7d65-4c94-90d3-2f747a6e2822",
   "metadata": {},
   "outputs": [],
   "source": [
    "#F.3.1\n",
    "dev = qml.device(\"default.qubit\", wires=3)\n",
    "\n",
    "@qml.qnode(dev)\n",
    "def three_qubit_QFT(basis_id):\n",
    "    bits = [int(x) for x in np.binary_repr(basis_id, width=dev.num_wires)]\n",
    "    qml.BasisStatePreparation(bits, wires=[0, 1, 2])\n",
    "    qml.Hadamard(wires=0)\n",
    "    qml.ctrl(qml.S(wires=0), control=1)\n",
    "    qml.ctrl(qml.T(wires=0), control=2)\n",
    "    qml.Hadamard(wires=1)\n",
    "    qml.ctrl(qml.S(wires=1), control=2)\n",
    "    qml.Hadamard(wires=2)\n",
    "    qml.SWAP(wires=[0,2])\n",
    "    return qml.state()\n",
    "    pass"
   ]
  },
  {
   "cell_type": "code",
   "execution_count": null,
   "id": "48de5c23-26bb-43e1-b27a-183d3e416c1b",
   "metadata": {},
   "outputs": [],
   "source": [
    "#F.3.2\n",
    "dev = qml.device('default.qubit', wires=4)\n",
    "          \n",
    "def swap_bits(n_qubits):\n",
    "    for i in range(int(n_qubits/2)):\n",
    "        qml.SWAP(wires=[i,n_qubits-1-i])\n",
    "    pass\n",
    "\n",
    "@qml.qnode(dev) \n",
    "def qft_node(basis_id, n_qubits):\n",
    "    bits = [int(x) for x in np.binary_repr(basis_id, width=n_qubits)]\n",
    "    qml.BasisStatePreparation(bits, wires=range(n_qubits))\n",
    "    swap_bits(n_qubits)\n",
    "    return qml.state()"
   ]
  },
  {
   "cell_type": "code",
   "execution_count": null,
   "id": "0cb8ae52-d9e5-4065-ace7-d6f5591ec63f",
   "metadata": {},
   "outputs": [],
   "source": [
    "#F.3.3\n",
    "dev = qml.device('default.qubit', wires=4)\n",
    "\n",
    "def qft_rotations(n_qubits):\n",
    "    for i in range(n_qubits):\n",
    "        qml.Hadamard(wires=i)\n",
    "        for j in range(i+1,n_qubits,1):\n",
    "            qml.ControlledPhaseShift(np.pi/(2**(j-i)), wires=[j,i])\n",
    "    pass\n",
    "\n",
    "@qml.qnode(dev) \n",
    "def qft_node(basis_id, n_qubits):\n",
    "    bits = [int(x) for x in np.binary_repr(basis_id, width=n_qubits)]\n",
    "    qml.BasisStatePreparation(bits, wires=range(n_qubits))\n",
    "    qft_rotations(n_qubits)\n",
    "    swap_bits(n_qubits)\n",
    "    return qml.state()"
   ]
  },
  {
   "cell_type": "code",
   "execution_count": null,
   "id": "8be6d4d4-eacc-4d35-a6d0-a09a3037f99a",
   "metadata": {},
   "outputs": [],
   "source": [
    "#F.3.4\n",
    "dev = qml.device('default.qubit', wires=4)\n",
    "\n",
    "def qft_recursive_rotations(n_qubits, wire=0):\n",
    "    if wire == n_qubits-1:\n",
    "        qml.Hadamard(wires=wire)\n",
    "    else:\n",
    "        qml.Hadamard(wires=wire)\n",
    "        for i in range(wire+1, n_qubits, 1):\n",
    "            qml.ControlledPhaseShift(np.pi/(2**(i-wire)), wires=[i,wire])\n",
    "        qft_recursive_rotations(n_qubits, wire+1)\n",
    "    pass\n",
    "\n",
    "@qml.qnode(dev) \n",
    "def qft_node(basis_id, n_qubits):\n",
    "    bits = [int(x) for x in np.binary_repr(basis_id, width=n_qubits)]\n",
    "    qml.BasisStatePreparation(bits, wires=range(n_qubits))\n",
    "    qft_recursive_rotations(n_qubits)\n",
    "    swap_bits(n_qubits)\n",
    "    return qml.state()"
   ]
  },
  {
   "cell_type": "code",
   "execution_count": null,
   "id": "14f9f258-79d5-4bb4-a032-aafb93c7503b",
   "metadata": {},
   "outputs": [],
   "source": [
    "#F.3.5\n",
    "dev = qml.device('default.qubit', wires=4)\n",
    "\n",
    "@qml.qnode(dev)\n",
    "def pennylane_qft(basis_id, n_qubits):\n",
    "    bits = [int(x) for x in np.binary_repr(basis_id, width=n_qubits)]\n",
    "    qml.BasisStatePreparation(bits, wires=range(n_qubits))\n",
    "    qml.QFT(wires=range(n_qubits))\n",
    "    return qml.state()\n",
    "    pass"
   ]
  }
 ],
 "metadata": {
  "kernelspec": {
   "display_name": "Python 3 (ipykernel)",
   "language": "python",
   "name": "python3"
  },
  "language_info": {
   "codemirror_mode": {
    "name": "ipython",
    "version": 3
   },
   "file_extension": ".py",
   "mimetype": "text/x-python",
   "name": "python",
   "nbconvert_exporter": "python",
   "pygments_lexer": "ipython3",
   "version": "3.11.6"
  }
 },
 "nbformat": 4,
 "nbformat_minor": 5
}
