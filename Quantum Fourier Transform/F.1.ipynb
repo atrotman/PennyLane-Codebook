{
 "cells": [
  {
   "cell_type": "code",
   "execution_count": null,
   "id": "82558017-74c0-4d71-9961-7aef41137ac8",
   "metadata": {},
   "outputs": [],
   "source": [
    "#F.1.1\n",
    "def coefficients_to_values(coefficients):\n",
    "    return np.fft.fft(coefficients)\n",
    "\n",
    "A = [4, 3, 2, 1]\n",
    "print(coefficients_to_values(A))"
   ]
  },
  {
   "cell_type": "code",
   "execution_count": null,
   "id": "54f683fd-6e39-4616-b973-14220393b6bd",
   "metadata": {},
   "outputs": [],
   "source": [
    "#F.1.2\n",
    "def values_to_coefficients(values):\n",
    "    return np.fft.ifft(values)\n",
    "\n",
    "A = [10.+0.j,  2.-2.j,  2.+0.j,  2.+2.j]\n",
    "print(values_to_coefficients(A))"
   ]
  },
  {
   "cell_type": "code",
   "execution_count": null,
   "id": "a96a3450-db9d-4842-883d-d2e05759d1a3",
   "metadata": {},
   "outputs": [],
   "source": [
    "#F.1.3\n",
    "def nearest_power_of_2(x):\n",
    "    y = int(np.ceil(np.log2(x)))\n",
    "    return 2 ** y"
   ]
  },
  {
   "cell_type": "code",
   "execution_count": 1,
   "id": "bad382f7-d4f8-451f-9f45-ecd5032a533a",
   "metadata": {},
   "outputs": [],
   "source": [
    "#F.1.4\n",
    "def fft_multiplication(poly_a, poly_b):\n",
    "    x = len(poly_a) + len(poly_b) -1\n",
    "    m = nearest_power_of_2(x)\n",
    "    poly_a = np.pad(poly_a, pad_width = (0, m - len(poly_a)), mode = 'constant')\n",
    "    poly_b = np.pad(poly_b, pad_width = (0, m - len(poly_b)), mode = 'constant')\n",
    "    val_a = coefficients_to_values(poly_a)\n",
    "    val_b = coefficients_to_values(poly_b)\n",
    "    val_c = np.multiply(val_a, val_b)\n",
    "    poly_c = values_to_coefficients(val_c) \n",
    "    return poly_c\n",
    "    pass"
   ]
  }
 ],
 "metadata": {
  "kernelspec": {
   "display_name": "Python 3 (ipykernel)",
   "language": "python",
   "name": "python3"
  },
  "language_info": {
   "codemirror_mode": {
    "name": "ipython",
    "version": 3
   },
   "file_extension": ".py",
   "mimetype": "text/x-python",
   "name": "python",
   "nbconvert_exporter": "python",
   "pygments_lexer": "ipython3",
   "version": "3.11.6"
  }
 },
 "nbformat": 4,
 "nbformat_minor": 5
}
