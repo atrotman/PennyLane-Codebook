{
 "cells": [
  {
   "cell_type": "code",
   "execution_count": null,
   "id": "1d9d770a-d071-43e0-b4f5-8a4dfd560130",
   "metadata": {},
   "outputs": [],
   "source": [
    "#H.5.1\n",
    "dev = qml.device(\"default.qubit\", wires=range(n_bits))\n",
    "\n",
    "@qml.qnode(dev)\n",
    "def two_distant_spins(B, time):\n",
    "    e = 1.6e-19\n",
    "    m_e = 9.1e-31\n",
    "    alpha = B*e/(2*m_e)\n",
    "    qml.RZ(-2*alpha*time,wires=0)\n",
    "    qml.RZ(-2*alpha*time,wires=0)\n",
    "    return qml.state()"
   ]
  },
  {
   "cell_type": "code",
   "execution_count": null,
   "id": "da425b0a-d29a-4df4-885d-e3694431430c",
   "metadata": {},
   "outputs": [],
   "source": [
    "#H.5.2\n",
    "@qml.qnode(dev)\n",
    "def two_close_spins_X(B, J, time, n):\n",
    "    e = 1.6e-19\n",
    "    m_e = 9.1e-31\n",
    "    alpha = B*e/(2*m_e)\n",
    "    hbar = 1e-34\n",
    "    beta = -J*hbar/4\n",
    "    \n",
    "    for _ in range(n):\n",
    "\t    qml.PauliRot(-2*beta*time/n, \"XX\", wires=[0,1])\n",
    "\t    qml.PauliRot(-2*alpha*time/n, \"Z\", wires=0)\n",
    "\t    qml.PauliRot(-2*alpha*time/n, \"Z\", wires=1)\n",
    "    return qml.state()"
   ]
  },
  {
   "cell_type": "code",
   "execution_count": null,
   "id": "3b2aa608-9b9b-4fac-a3f2-00c29842d287",
   "metadata": {},
   "outputs": [],
   "source": [
    "#H.5.3\n",
    "def ham_close_spins(B, J):\n",
    "    e = 1.6e-19\n",
    "    m_e = 9.1e-31\n",
    "    alpha = B*e/(2*m_e)\n",
    "    hbar = 1e-34\n",
    "    coeffs = [-alpha, -alpha, hbar/4 * J[0], hbar / 4 * J[1], hbar / 4 * J[2]]\n",
    "    obs = [qml.PauliZ(0), qml.PauliZ(1), qml.PauliX(0) @ qml.PauliX(1), qml.PauliY(0) @ qml.PauliY(1), qml.PauliZ(0) @ qml.PauliZ(1)]\n",
    "    return qml.Hamiltonian(coeffs, obs)"
   ]
  },
  {
   "cell_type": "code",
   "execution_count": null,
   "id": "26aba595-8dab-490e-a204-c04e317e50af",
   "metadata": {},
   "outputs": [],
   "source": [
    "#H.5.4\n",
    "@qml.qnode(dev)\n",
    "def two_close_spins(B, J, time, n):\n",
    "    ham = ham_close_spins(B,J)\n",
    "    qml.ApproxTimeEvolution(ham, time, n)\n",
    "    return qml.state()"
   ]
  }
 ],
 "metadata": {
  "kernelspec": {
   "display_name": "Python 3 (ipykernel)",
   "language": "python",
   "name": "python3"
  },
  "language_info": {
   "codemirror_mode": {
    "name": "ipython",
    "version": 3
   },
   "file_extension": ".py",
   "mimetype": "text/x-python",
   "name": "python",
   "nbconvert_exporter": "python",
   "pygments_lexer": "ipython3",
   "version": "3.11.6"
  }
 },
 "nbformat": 4,
 "nbformat_minor": 5
}
