{
 "cells": [
  {
   "cell_type": "code",
   "execution_count": null,
   "id": "d25dd32e-e935-4009-98bc-bfd3761fee5f",
   "metadata": {},
   "outputs": [],
   "source": [
    "#H.6.1a\n",
    "aux = 0\n",
    "main = 1\n",
    "n_bits = 2\n",
    "dev = qml.device(\"default.qubit\", wires=n_bits)\n",
    "\n",
    "def add_two_unitaries(U, V):\n",
    "    qml.Hadamard(wires=aux)\n",
    "    qml.ControlledQubitUnitary(U,control_wires=[0], wires=1,control_values='0')\n",
    "    qml.ControlledQubitUnitary(V,control_wires=[0], wires=1,control_values='1')\n",
    "    qml.Hadamard(wires=aux)"
   ]
  },
  {
   "cell_type": "code",
   "execution_count": null,
   "id": "03217c00-79a9-429b-988c-f31761f00e49",
   "metadata": {},
   "outputs": [],
   "source": [
    "#H.6.1b\n",
    "@qml.qnode(dev)\n",
    "def X_plus_Z():\n",
    "    U = qml.PauliX.compute_matrix()\n",
    "    V = qml.PauliZ.compute_matrix()\n",
    "    add_two_unitaries(U,V)\n",
    "    return qml.state()\n",
    "\n",
    "print(\"The amplitudes on the main register are proportional to\", X_plus_Z()[:2], \".\")"
   ]
  },
  {
   "cell_type": "code",
   "execution_count": null,
   "id": "2d457dfe-2612-4087-82b3-c5ab377a5293",
   "metadata": {},
   "outputs": [],
   "source": [
    "#H.6.2\n",
    "k_bits = 2\n",
    "n_bits = 2\n",
    "all_bits = k_bits + n_bits\n",
    "aux = range(k_bits)\n",
    "main = range(k_bits, all_bits)\n",
    "dev = qml.device(\"default.qubit\", wires=all_bits)\n",
    "\n",
    "def SELECT_uniform(U_list):\n",
    "    for index in range(2**k_bits):\n",
    "        ctrl_str =  np.binary_repr(index, k_bits) # Create binary representation\n",
    "        qml.ControlledQubitUnitary(U_list[index], control_wires =[i for i in range(k_bits)], wires = [i for i in range(n_bits, all_bits)], control_values=ctrl_str)"
   ]
  },
  {
   "cell_type": "code",
   "execution_count": null,
   "id": "d5d18033-e2ba-42e3-8b31-d94a143215d7",
   "metadata": {},
   "outputs": [],
   "source": [
    "#H.6.2b\n",
    "@qml.qnode(dev)\n",
    "def XH_plus_HZ():\n",
    "    U_list = [np.kron(qml.PauliX.compute_matrix(), qml.PauliX.compute_matrix()),\n",
    "              np.kron(qml.PauliZ.compute_matrix(), qml.PauliZ.compute_matrix()),\n",
    "              np.kron(qml.PauliX.compute_matrix(), qml.PauliZ.compute_matrix()),\n",
    "              np.kron(qml.PauliZ.compute_matrix(), qml.PauliX.compute_matrix())]\n",
    "    qml.PauliX(wires=3)\n",
    "    qml.Hadamard(wires=0)\n",
    "    qml.Hadamard(wires=1)\n",
    "    SELECT_uniform(U_list)\n",
    "    qml.Hadamard(wires=0)\n",
    "    qml.Hadamard(wires=1)\n",
    "    return qml.state()\n",
    "\n",
    "print(\"The amplitudes on the main register are proportional to\", XH_plus_HZ()[:4], \".\")"
   ]
  },
  {
   "cell_type": "code",
   "execution_count": null,
   "id": "c95ae7d4-1fb1-4f08-8ee5-8772acf26260",
   "metadata": {},
   "outputs": [],
   "source": [
    "#H.6.3\n",
    "def V(t):\n",
    "    return np.array(\n",
    "        [\n",
    "            [np.sqrt(t) / np.sqrt(t + 1), -1 / np.sqrt(t + 1)],\n",
    "            [1 / np.sqrt(t + 1), np.sqrt(t) / np.sqrt(t + 1)],\n",
    "        ]\n",
    "    )\n",
    "\n",
    "def exp_U_first(U, t):\n",
    "    ml.QubitUnitary(V(t), wires=0)\n",
    "    qml.ControlledQubitUnitary(U,control_wires=[0], wires=1, control_values='0')\n",
    "    qml.ControlledQubitUnitary(np.identity(2),control_wires=[0], wires=1, control_values='0')\n",
    "    qml.adjoint(qml.QubitUnitary)(V(t),wires=0)"
   ]
  },
  {
   "cell_type": "code",
   "execution_count": null,
   "id": "bd97e844-604e-4949-940f-b0e882755d50",
   "metadata": {},
   "outputs": [],
   "source": [
    "#H.6.4a\n",
    "def prepare(coeffs):\n",
    "    norm = np.linalg.norm(coeffs)\n",
    "    normalized_coeffs = coeffs / norm\n",
    "    qml.MottonenStatePreparation(normalized_coeffs, wires=aux)"
   ]
  },
  {
   "cell_type": "code",
   "execution_count": null,
   "id": "a12cd728-68fc-4b7a-9490-c52591ce3577",
   "metadata": {},
   "outputs": [],
   "source": [
    "#H.6.4b\n",
    "k_bits=2\n",
    "\n",
    "def select(unitaries):\n",
    "    for index in range(2**k_bits):\n",
    "        ctrl_str = np.binary_repr(index, k_bits)[::-1]\n",
    "        for i in range(len(ctrl_str)):\n",
    "            if ctrl_str[i] == '0':\n",
    "                qml.ControlledQubitUnitary(unitaries[i], control_wires=[j for j in aux], wires=[k for k in main], control_values='0')\n",
    "            else:\n",
    "                qml.ControlledQubitUnitary(unitaries[i], control_wires=[j for j in aux], wires=[k for k in main], control_values='1')"
   ]
  },
  {
   "cell_type": "code",
   "execution_count": null,
   "id": "35fafd79-ab4f-4b35-afb6-dd75d8be819f",
   "metadata": {},
   "outputs": [],
   "source": [
    "#H.6.4c\n",
    "def v0(t):\n",
    "    v00 = 1\n",
    "    v01 = np.sqrt(t)\n",
    "    v02 = t/np.sqrt(2)\n",
    "    v03 = 0\n",
    "    return np.array([v00, v01, v02, v03])/np.sqrt(1+t+1/2*t**2)\n",
    "\n",
    "def exp_U_second(unitaries, t):\n",
    "    prepare(v0(t))\n",
    "    select(unitaries)\n",
    "    qml.adjoint(prepare(v0(t)))"
   ]
  },
  {
   "cell_type": "code",
   "execution_count": null,
   "id": "9bdd0792-ac17-4ea1-bb63-4512c847f76b",
   "metadata": {},
   "outputs": [],
   "source": [
    "#H.6.5\n",
    "aux = [0, 1]\n",
    "main = [2]\n",
    "all_bits = aux + main\n",
    "U = qml.PauliX.compute_matrix()*(1.j)\n",
    "unitaries = [np.eye(2), U, U @ U, np.eye(2)]\n",
    "dev1 = qml.device(\"default.qubit\", wires=[aux[0]] + main)\n",
    "dev2 = qml.device(\"default.qubit\", wires=all_bits)\n",
    "\n",
    "# H.6.3\n",
    "@qml.qnode(dev1)\n",
    "def first_approx(t):\n",
    "    exp_U_first(1j * qml.PauliX.compute_matrix(),t)\n",
    "    return qml.state()\n",
    "\n",
    "# H.6.4\n",
    "@qml.qnode(dev2)\n",
    "def second_approx(t):\n",
    "    exp_U_second(unitaries, t)\n",
    "    return qml.state()\n",
    "\n",
    "@qml.qnode(dev2)\n",
    "def exact(t):\n",
    "    qml.RX(-2 * t,wires=main)\n",
    "    return qml.state()"
   ]
  }
 ],
 "metadata": {
  "kernelspec": {
   "display_name": "Python 3 (ipykernel)",
   "language": "python",
   "name": "python3"
  },
  "language_info": {
   "codemirror_mode": {
    "name": "ipython",
    "version": 3
   },
   "file_extension": ".py",
   "mimetype": "text/x-python",
   "name": "python",
   "nbconvert_exporter": "python",
   "pygments_lexer": "ipython3",
   "version": "3.11.6"
  }
 },
 "nbformat": 4,
 "nbformat_minor": 5
}
