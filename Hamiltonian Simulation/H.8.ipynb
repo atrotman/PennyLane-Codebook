{
 "cells": [
  {
   "cell_type": "code",
   "execution_count": null,
   "id": "377790a6-5f7b-4e2d-9d90-cdb310a89e0f",
   "metadata": {},
   "outputs": [],
   "source": [
    "#H.8.1a\n",
    "def exact_result_XandZ(alpha, beta, time):\n",
    "    root = np.sqrt(alpha**2 + beta**2)\n",
    "    c_0 = np.cos(root*time) - (alpha/root)*np.sin(root*time)*1.j\n",
    "    c_1 = -(beta/root)*np.sin(root*time)*1.j\n",
    "    return np.array([c_0, c_1])\n",
    "    \n",
    "@qml.qnode(dev)\n",
    "def trotter_XandZ(alpha, beta, time, n):\n",
    "    t = time\n",
    "    for _ in range(n):\n",
    "\t    qml.PauliRot(2 * t/n * alpha, \"Z\",wires=0)\n",
    "\t    qml.PauliRot(2 * t/n * beta, \"X\",wires=0)\n",
    "\n",
    "    return qml.state()\n",
    "\n",
    "def trotter_error_XandZ(alpha, beta, time, n):\n",
    "    diff = np.abs(trotter_XandZ(alpha, beta, time, n) - exact_result_XandZ(alpha, beta, time))\n",
    "    return np.sqrt(sum(diff*diff))"
   ]
  },
  {
   "cell_type": "code",
   "execution_count": null,
   "id": "9c9f8258-7651-457b-a7d4-ebbdbc874863",
   "metadata": {},
   "outputs": [],
   "source": [
    "#H.8.1b\n",
    "@qml.qnode(dev)\n",
    "def trotter_2_XandZ(alpha, beta, time, n):\n",
    "    t = time\n",
    "    for _ in range(n):\n",
    "\t    qml.PauliRot(2 * t/(2*n) * alpha, \"Z\", wires=0)\n",
    "\t    qml.PauliRot(2 * t/(2*n) * beta, \"X\", wires=0)\n",
    "\t    qml.PauliRot(2 * t/(2*n) * beta, \"X\", wires=0)\n",
    "\t    qml.PauliRot(2 * t/(2*n) * alpha, \"Z\", wires=0)\n",
    "    return qml.state()\n",
    "\n",
    "def trotter_2_error_XandZ(alpha, beta, time, n):\n",
    "    diff = np.abs(trotter_2_XandZ(alpha, beta, time, n) - exact_result_XandZ(alpha, beta, time))\n",
    "    return np.sqrt(sum(diff*diff))"
   ]
  },
  {
   "cell_type": "code",
   "execution_count": null,
   "id": "6b737ea3-310f-44c1-a550-454e2382166b",
   "metadata": {},
   "outputs": [],
   "source": [
    "#H.8.1c\n",
    "@qml.qnode(dev)\n",
    "def trotter_k_XandZ(alpha, beta, time, n, k):\n",
    "    def U(alpha, beta, time, n, k):\n",
    "        if k == 1:\n",
    "            qml.RZ(alpha*time/n, wires=[0])\n",
    "            qml.RX(2*beta*time/n, wires=[0])\n",
    "            qml.RZ(alpha*time/n, wires=[0])\n",
    "        else:\n",
    "            s = 1 / (4 - 4 ** (1 / (2 * k -1)))\n",
    "            U(alpha, beta, s * time, n, k -1)\n",
    "            U(alpha, beta, s * time, n, k -1)\n",
    "            U(alpha, beta, (1 - 4 * s) * time, n , k-1)\n",
    "            U(alpha, beta, s * time, n ,k-1)\n",
    "            U(alpha, beta, s * time, n, k -1)\n",
    "            pass\n",
    "            \n",
    "    for _ in range(n):\n",
    "        U(alpha, beta, time, n, k)\n",
    "    return qml.state()\n",
    "\n",
    "def trotter_k_error_XandZ(alpha, beta, time, n, k):\n",
    "    diff = np.abs(trotter_k_XandZ(alpha, beta, time, n, k) - exact_result_XandZ(alpha, beta, time))\n",
    "    return np.sqrt(sum(diff*diff))"
   ]
  },
  {
   "cell_type": "code",
   "execution_count": null,
   "id": "4c06ff3d-835b-4dd8-8282-f9efb9384ba8",
   "metadata": {},
   "outputs": [],
   "source": [
    "#H.8.1d\n",
    "def trotter_steps_XandZ(alpha, beta, time, error, k):\n",
    "    n = 1\n",
    "    while True:\n",
    "\t    e = trotter_k_error_XandZ(alpha, beta, time,n,k)\n",
    "\t    if e <= error:\n",
    "\t\t    break\n",
    "\t    n+= 1\n",
    "    return n\n",
    "\n",
    "error = 1e-6\n",
    "optimal_k = 3\n",
    "n = trotter_steps_XandZ(1, 1, 1, error, optimal_k)\n",
    "depth = qml.specs(trotter_k_XandZ)(1, 1, 1, n, optimal_k)['depth']\n",
    "print(\"The Trotter circuit of order\", 2*optimal_k, \"uses a circuit of depth\", depth, \"gates to achieve error ε =\", error, \".\")"
   ]
  },
  {
   "cell_type": "code",
   "execution_count": null,
   "id": "9152812c-2b8b-4425-984c-46da0343b689",
   "metadata": {},
   "outputs": [],
   "source": [
    "#H.8.2a\n",
    "def truncation_XandZ(alpha, beta, time, K_bits):\n",
    "    root = np.sqrt(alpha**2 + beta**2)\n",
    "    coeff_list = [0]*2**K_bits\n",
    "    U_list = [0]*2**K_bits\n",
    "    V = (alpha*qml.PauliZ(wires=0).compute_matrix() + beta*qml.PauliX(wires=0).compute_matrix())/root\n",
    "\n",
    "    for k in range(2**(K_bits-1)):\n",
    "        coeff_list[2*k] = ((time * np.sqrt(alpha**2 + beta**2))**(2*k))/(fact(2*k))\n",
    "        coeff_list[2*k + 1] = ((time * np.sqrt(alpha**2 + beta**2))**(2*k + 1)) / (fact(2 * k +1))\n",
    "        U_list[2*k] = np.eye(2) * (-1)**k\n",
    "        U_list[2*k + 1] = (-1)**k * (-1j) * V\n",
    "    return [coeff_list, U_list]"
   ]
  },
  {
   "cell_type": "code",
   "execution_count": null,
   "id": "6e86856e-4fac-4354-bc72-52fb2ba8ac5a",
   "metadata": {},
   "outputs": [],
   "source": [
    "#H.8.2b\n",
    "def LCU_XandZ(alpha, beta, time, K_bits):\n",
    "    aux = range(K_bits)\n",
    "    main = range(K_bits, K_bits + 1)\n",
    "    dev2 = qml.device(\"default.qubit\", wires=K_bits + 1, shots=None)\n",
    "    [coeff_list, U_list] = truncation_XandZ(alpha, beta, time, K_bits)\n",
    "    \n",
    "    @qml.qnode(dev2)\n",
    "    def LCU_circuit():\n",
    "        print(PREPARE_matrix(coeff_list))\n",
    "        qml.QubitUnitary(PREPARE_matrix(coeff_list),wires=aux)\n",
    "        SELECT(U_list)\n",
    "        qml.QubitUnitary(PREPARE_matrix(coeff_list).conj().T, wires=aux)\n",
    "        return qml.state()\n",
    "\n",
    "    unnormed = LCU_circuit()[:2] # Unnormalized state of main qubit\n",
    "    normed = unnormed/np.sqrt(sum(np.conjugate(unnormed)*unnormed)) # Normalize!\n",
    "    return normed"
   ]
  },
  {
   "cell_type": "code",
   "execution_count": null,
   "id": "e469de57-9ab2-4b93-8559-e1d7f0f52e49",
   "metadata": {},
   "outputs": [],
   "source": [
    "#H.8.2c\n",
    "def LCU_error_XandZ(alpha, beta, time, K_bits):\n",
    "    diff = np.abs(LCU_XandZ(alpha, beta, time, K_bits) - exact_result_XandZ(alpha, beta,time))\n",
    "    return np.sqrt(sum(diff*diff))"
   ]
  },
  {
   "cell_type": "code",
   "execution_count": null,
   "id": "11a96ee7-cfe7-4310-ad96-2840d1b4cbc5",
   "metadata": {},
   "outputs": [],
   "source": [
    "#H.8.3\n",
    "alpha, error = 3, 0.003\n",
    "\n",
    "print(\"For α =\", alpha, \"and error ε =\", error, \n",
    "      \"the optimal Trotter circuit has depth\",  trotter_depth(alpha, error),\n",
    "      \"and the optimal LCU circuit depth\", LCU_depth(alpha, error), \".\")\n",
    "\n",
    "alpha_trotter, error_trotter = 0, 1\n",
    "alpha_LCU, error_LCU = 3, 0.003"
   ]
  }
 ],
 "metadata": {
  "kernelspec": {
   "display_name": "Python 3 (ipykernel)",
   "language": "python",
   "name": "python3"
  },
  "language_info": {
   "codemirror_mode": {
    "name": "ipython",
    "version": 3
   },
   "file_extension": ".py",
   "mimetype": "text/x-python",
   "name": "python",
   "nbconvert_exporter": "python",
   "pygments_lexer": "ipython3",
   "version": "3.11.6"
  }
 },
 "nbformat": 4,
 "nbformat_minor": 5
}
