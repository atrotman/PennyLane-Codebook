{
 "cells": [
  {
   "cell_type": "code",
   "execution_count": 1,
   "id": "f1e3105b-ccb1-4bf6-9e5e-31af8043e288",
   "metadata": {},
   "outputs": [],
   "source": [
    "#H.4.1\n",
    "n_bits = 2\n",
    "dev = qml.device(\"default.qubit\", wires=n_bits)\n",
    "\n",
    "@qml.qnode(dev)\n",
    "def zz_circuit(alpha, time, init):\n",
    "    hbar = 1e-34\n",
    "    qml.BasisState(init, wires=[_ for _ in range(n_bits)])\n",
    "    qml.CNOT(wires=[0,1])\n",
    "    qml.RZ(2*alpha*time / hbar, wires=1)\n",
    "    qml.CNOT(wires=[0,1])\n",
    "    return qml.probs(wires=range(n_bits))"
   ]
  },
  {
   "cell_type": "code",
   "execution_count": null,
   "id": "c3678426-36c4-46e8-8387-50336792bfd2",
   "metadata": {},
   "outputs": [],
   "source": [
    "#H.4.2a\n",
    "n_bits = 5\n",
    "dev = qml.device(\"default.qubit\", wires=n_bits)\n",
    "obs = [qml.PauliZ(0) @ qml.PauliZ(1) , qml.PauliZ(1) @ qml.PauliZ(2) ,qml.PauliZ(1) @ qml.PauliZ(3) , qml.PauliZ(3) @ qml.PauliZ(4)]\n",
    "coeffs = [1 for _ in obs]\n",
    "H = qml.Hamiltonian(coeffs, obs)\n",
    "\n",
    "@qml.qnode(dev)\n",
    "def energy(init):\n",
    "    qml.BasisState(init, wires=range(n_bits))\n",
    "    return qml.expval(H)"
   ]
  },
  {
   "cell_type": "code",
   "execution_count": null,
   "id": "c0601ac2-a749-4cb0-9c15-f9d63a979d38",
   "metadata": {},
   "outputs": [],
   "source": [
    "#H.4.2b\n",
    "my_guess1 = np.array([0,1,0,0,1])\n",
    "my_guess2 = np.array([1,0,1,1,0])\n",
    "\n",
    "print(\"The expected energy for\", my_guess1, \"is\", energy(my_guess1), \".\")\n",
    "print(\"The expected energy for\", my_guess2, \"is\", energy(my_guess2), \".\")"
   ]
  }
 ],
 "metadata": {
  "kernelspec": {
   "display_name": "Python 3 (ipykernel)",
   "language": "python",
   "name": "python3"
  },
  "language_info": {
   "codemirror_mode": {
    "name": "ipython",
    "version": 3
   },
   "file_extension": ".py",
   "mimetype": "text/x-python",
   "name": "python",
   "nbconvert_exporter": "python",
   "pygments_lexer": "ipython3",
   "version": "3.11.6"
  }
 },
 "nbformat": 4,
 "nbformat_minor": 5
}
