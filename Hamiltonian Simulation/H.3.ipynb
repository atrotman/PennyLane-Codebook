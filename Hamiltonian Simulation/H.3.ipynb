{
 "cells": [
  {
   "cell_type": "code",
   "execution_count": null,
   "id": "3afa5236-fe34-4f00-b7ff-01c6541a372f",
   "metadata": {},
   "outputs": [],
   "source": [
    "#H.3.1\n",
    "def mag_z_unitary(B, time):\n",
    "    e = 1.6e-19\n",
    "    m_e = 9.1e-31\n",
    "    alpha = B*e/(2*m_e)\n",
    "    matrix = np.array([[0+0j,0],[0,0]])\n",
    "    matrix[0][0] = np.exp(alpha*time*1j)\n",
    "    matrix[1][1] = np.exp(alpha*time*-1j)\n",
    "    return matrix\n",
    "\n",
    "B, t = 0.1, 0.6\n",
    "if unitary_check(mag_z_unitary(B, t)):\n",
    "    print(\"The output is unitary for B =\", B, \"and t =\", t, \".\")"
   ]
  },
  {
   "cell_type": "code",
   "execution_count": null,
   "id": "137de9a6-df94-4c16-a4c7-ce4a72234e56",
   "metadata": {},
   "outputs": [],
   "source": [
    "#H.3.1b\n",
    "dev = qml.device(\"default.qubit\", wires=1)\n",
    "\n",
    "@qml.qnode(dev)\n",
    "def mag_z_0_v1(B, time):\n",
    "    qml.QubitUnitary(mag_z_unitary(B, time), wires=0)\n",
    "    return qml.state()"
   ]
  },
  {
   "cell_type": "code",
   "execution_count": null,
   "id": "3f887b8c-0f53-4354-afaf-e0f436e05d34",
   "metadata": {},
   "outputs": [],
   "source": [
    "#H.3.1c\n",
    "dev = qml.device(\"default.qubit\", wires=1)\n",
    "\n",
    "@qml.qnode(dev)\n",
    "def mag_z_0_v2(B, time):\n",
    "    e = 1.6e-19\n",
    "    m_e = 9.1e-31\n",
    "    alpha = B*e/(2*m_e)\n",
    "    qml.RZ(-2*alpha*time,wires=0)\n",
    "    return qml.state()\n",
    "\n",
    "B, t = 0.1, 0.6\n",
    "if np.allclose(mag_z_0_v1(B, t), mag_z_0_v2(B, t)):\n",
    "    print(\"The two circuits give the same answer!\")"
   ]
  },
  {
   "cell_type": "code",
   "execution_count": 1,
   "id": "4d250eb2-8e50-4ad6-839c-41cbb5cb927c",
   "metadata": {},
   "outputs": [],
   "source": [
    "#H.3.1e\n",
    "dev = qml.device(\"default.qubit\", wires=1)\n",
    "\n",
    "def evolve_plus_state(B, time):\n",
    "    e = 1.6e-19\n",
    "    m_e = 9.1e-31\n",
    "    alpha = B*e/(2*m_e)\n",
    "    qml.Hadamard(wires=0)\n",
    "    qml.RZ(-2*alpha*time,wires=0)\n",
    "\n",
    "@qml.qnode(dev)\n",
    "def mag_z_plus_X(B, time):\n",
    "    evolve_plus_state(B, time)\n",
    "    return qml.expval(qml.PauliX(0))\n",
    "\n",
    "@qml.qnode(dev)\n",
    "def mag_z_plus_Y(B, time):\n",
    "    evolve_plus_state(B, time)\n",
    "    return qml.expval(qml.PauliY(0))"
   ]
  }
 ],
 "metadata": {
  "kernelspec": {
   "display_name": "Python 3 (ipykernel)",
   "language": "python",
   "name": "python3"
  },
  "language_info": {
   "codemirror_mode": {
    "name": "ipython",
    "version": 3
   },
   "file_extension": ".py",
   "mimetype": "text/x-python",
   "name": "python",
   "nbconvert_exporter": "python",
   "pygments_lexer": "ipython3",
   "version": "3.11.6"
  }
 },
 "nbformat": 4,
 "nbformat_minor": 5
}
