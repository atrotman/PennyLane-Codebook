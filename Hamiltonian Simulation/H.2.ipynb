{
 "cells": [
  {
   "cell_type": "code",
   "execution_count": 1,
   "id": "2e1bb3f4-b803-411c-9d28-0525098e6e38",
   "metadata": {},
   "outputs": [],
   "source": [
    "#H.2.1\n",
    "def unitary_check(operator):\n",
    "    return np.allclose(np.matmul(operator,operator.conj().T), np.eye(operator.shape[0]))"
   ]
  },
  {
   "cell_type": "code",
   "execution_count": null,
   "id": "0f227ce8-7aa1-44f6-89ad-9c359ab82b7e",
   "metadata": {},
   "outputs": [],
   "source": [
    "#H.2.2\n",
    "n_bits = 1\n",
    "dev = qml.device(\"default.qubit\", wires=n_bits)\n",
    "\n",
    "@qml.qnode(dev)\n",
    "def unitary_circuit(operator):\n",
    "    if unitary_check(operator) and operator.shape[0] ==2:\n",
    "\t    qml.QubitUnitary(operator, wires=0)\n",
    "    return qml.state()"
   ]
  }
 ],
 "metadata": {
  "kernelspec": {
   "display_name": "Python 3 (ipykernel)",
   "language": "python",
   "name": "python3"
  },
  "language_info": {
   "codemirror_mode": {
    "name": "ipython",
    "version": 3
   },
   "file_extension": ".py",
   "mimetype": "text/x-python",
   "name": "python",
   "nbconvert_exporter": "python",
   "pygments_lexer": "ipython3",
   "version": "3.11.6"
  }
 },
 "nbformat": 4,
 "nbformat_minor": 5
}
