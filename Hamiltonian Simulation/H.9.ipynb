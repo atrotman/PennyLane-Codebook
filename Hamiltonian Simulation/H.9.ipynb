{
 "cells": [
  {
   "cell_type": "code",
   "execution_count": null,
   "id": "c8723f4d-7414-4bca-8da8-07f5b58dff59",
   "metadata": {},
   "outputs": [],
   "source": [
    "#H.9.1a\n",
    "k_bits = 2\n",
    "main_bits = 2\n",
    "all_bits = k_bits + main_bits\n",
    "\n",
    "k_wires = range(k_bits)\n",
    "main_wires = range(k_bits, all_bits)\n",
    "dev = qml.device(\"default.qubit\", wires=all_bits)  \n",
    "\n",
    "def walk(alpha_list, U_list):\n",
    "    SELECT(U_list)\n",
    "    mat = PREPARE_matrix(alpha_list)\n",
    "    r = np.zeros(shape=mat.shape)\n",
    "    for _ in range(len(r)):\n",
    "        if _ == 0:\n",
    "            r[_][_] = 1.0\n",
    "            continue\n",
    "        r[_][_] = -1.0\n",
    "    R = mat.conj().T @ r @ mat\n",
    "    qml.QubitUnitary(R, wires=k_wires)"
   ]
  },
  {
   "cell_type": "code",
   "execution_count": null,
   "id": "8c40454d-ecb2-4898-ab98-14bac9b0815e",
   "metadata": {},
   "outputs": [],
   "source": [
    "#H.9.1b\n",
    "@qml.qnode(dev)\n",
    "def walk_circuit(alpha_list, U_list, steps):\n",
    "    qml.QubitUnitary(PREPARE_matrix(alpha_list), wires=k_wires)\n",
    "    for _ in range(steps):\n",
    "        walk(alpha_list,U_list)\n",
    "    return qml.state()"
   ]
  },
  {
   "cell_type": "code",
   "execution_count": null,
   "id": "3c417c28-bde3-403d-9090-d68cd9822bcb",
   "metadata": {},
   "outputs": [],
   "source": [
    "#H.9.2a\n",
    "targ_bits = k_bits + main_bits\n",
    "targ_wires = range(targ_bits)\n",
    "k_wires = range(k_bits)\n",
    "\n",
    "def eigenstate_prep(alpha_list, U_list, E):\n",
    "    alpha = sum(alpha_list) \n",
    "    c_plus =  np.sqrt(2 * (1 + E/alpha))**(-1)\n",
    "    c_minus = np.sqrt(2 * (1 - E/alpha))**(-1)\n",
    "    qml.QubitUnitary(PREPARE_matrix(alpha_list), wires= k_wires)\n",
    "    mat = SELECT_matrix(U_list)\n",
    "    mat = 1/np.sqrt(2) * ((c_plus + 1j * c_minus) * np.eye(2**targ_bits) +  (c_plus - 1j * c_minus) * mat)\n",
    "    qml.QubitUnitary(mat, wires=targ_wires)\n",
    "    c = [c_plus, c_minus] "
   ]
  },
  {
   "cell_type": "code",
   "execution_count": null,
   "id": "e0f37a56-6387-4c29-a6e0-164c16096f5c",
   "metadata": {},
   "outputs": [],
   "source": [
    "#H.9.2b\n",
    "p_bits = 8\n",
    "p_wires = range(targ_bits, targ_bits + p_bits) \n",
    "\n",
    "dev2 = qml.device(\"default.qubit\", wires=targ_bits + p_bits)\n",
    "\n",
    "@qml.qnode(dev2)\n",
    "def qpe_circuit(alpha_list, U_list, state, E):\n",
    "    eigenstate_prep(alpha_list,U_list,E)\n",
    "    qml.QuantumPhaseEstimation(walk_matrix(alpha_list,U_list),targ_wires,p_wires)\n",
    "    return qml.probs(wires=p_wires)"
   ]
  },
  {
   "cell_type": "code",
   "execution_count": null,
   "id": "2c92ef81-4dfa-4d5d-9967-1e60daaa6ca4",
   "metadata": {},
   "outputs": [],
   "source": [
    "#H.9.2c\n",
    "U_list = [np.kron(qml.Hadamard.compute_matrix(), qml.Hadamard.compute_matrix()),\n",
    "        np.kron(-qml.Hadamard.compute_matrix(), qml.PauliX.compute_matrix()),\n",
    "        np.kron(-qml.PauliX.compute_matrix(), qml.Hadamard.compute_matrix()),\n",
    "        np.kron(qml.PauliX.compute_matrix(), qml.PauliX.compute_matrix())]\n",
    "alpha_list = [2.0, np.sqrt(2), np.sqrt(2),1.0] # MODIFY THIS\n",
    "\n",
    "phase_estimated_00 = qpe_circuit(alpha_list, U_list,[0,0],1.0)\n",
    "phase_estimated_01 = qpe_circuit(alpha_list, U_list,[0,1],-1.0)\n",
    "\n",
    "phase_estimated_00 = phase_estimated = np.argmax(phase_estimated_00) / 2 ** p_bits\n",
    "phase_estimated_01 = phase_estimated = np.argmax(phase_estimated_01) / 2 ** p_bits\n",
    "\n",
    "\n",
    "alpha = sum(alpha_list)\n",
    "\n",
    "energy_estimated_00 = alpha*np.cos(2*np.pi*phase_estimated_00)\n",
    "energy_estimated_01 = alpha*np.cos(2*np.pi*phase_estimated_01)\n",
    "\n",
    "print(\"The estimated energy for state |00> is\", energy_estimated_00, \".\")\n",
    "print(\"The estimated energy for state |01> is\", energy_estimated_01, \".\")"
   ]
  },
  {
   "cell_type": "code",
   "execution_count": null,
   "id": "8b64c8a7-e71c-41f6-a713-416eae03c1ed",
   "metadata": {},
   "outputs": [],
   "source": [
    "#H.9.3a\n",
    "def S(time, alpha):\n",
    "    hbar = 1e-34\n",
    "    output = np.eye(2**(targ_bits + p_bits), dtype = 'complex_')\n",
    "    for k in range(2**targ_bits):\n",
    "        for i in range(2**p_bits):\n",
    "            index = 2**p_bits*k + i\n",
    "            val = - time * alpha / hbar * np.cos(2 * np.pi * 1/(2**p_bits) * index)\n",
    "            output[index, index] = np.exp(1j * val)\n",
    "    return output"
   ]
  },
  {
   "cell_type": "code",
   "execution_count": null,
   "id": "cd02271a-979c-45cb-97ba-a8f0fae61b37",
   "metadata": {},
   "outputs": [],
   "source": [
    "#H.9.3b\n",
    "@qml.qnode(dev2)\n",
    "def qubitization(alpha_list, U_list, time):\n",
    "    \"\"\"Perform Hamiltonian simulation using a simplified qubitization circuit.\n",
    "    \n",
    "    Args:\n",
    "        alpha_list (array[float]): A list of coefficients.\n",
    "        U_list (list[array[complex]]): A list of unitary matrices, stored as complex arrays.\n",
    "        time (float): The time to evolve the Hamiltonian for.\n",
    "    \"\"\"\n",
    "    prep = PREPARE_matrix(alpha_list)\n",
    "    prep_dagger = np.conjugate(np.transpose(prep))\n",
    "    alpha = sum(alpha_list)\n",
    "    \n",
    "    ##################\n",
    "    # YOUR CODE HERE #\n",
    "    ##################\n",
    "    qml.QubitUnitary(prep,wires = [_ for _ in range(k_bits)])\n",
    "    qml.QuantumPhaseEstimation(walk_matrix(alpha_list,U_list),targ_wires, p_wires)\n",
    "    qml.QubitUnitary(S(time, alpha), wires = [_ for _ in range(10)])\n",
    "    qml.adjoint(qml.QuantumPhaseEstimation)(walk_matrix(alpha_list,U_list),targ_wires,p_wires)\n",
    "    qml.QubitUnitary(prep_dagger, wires = [_ for _ in range(k_bits)])\n",
    "    \n",
    "    return qml.probs(wires=range(k_bits, k_bits + main_bits))\n"
   ]
  },
  {
   "cell_type": "code",
   "execution_count": null,
   "id": "21ce6ef6-4ed6-487a-a485-2d80c8717f2d",
   "metadata": {},
   "outputs": [],
   "source": []
  }
 ],
 "metadata": {
  "kernelspec": {
   "display_name": "Python 3 (ipykernel)",
   "language": "python",
   "name": "python3"
  },
  "language_info": {
   "codemirror_mode": {
    "name": "ipython",
    "version": 3
   },
   "file_extension": ".py",
   "mimetype": "text/x-python",
   "name": "python",
   "nbconvert_exporter": "python",
   "pygments_lexer": "ipython3",
   "version": "3.11.6"
  }
 },
 "nbformat": 4,
 "nbformat_minor": 5
}
