{
 "cells": [
  {
   "cell_type": "code",
   "execution_count": 1,
   "id": "5d8664d0-59bd-489b-9d31-ab4784d2dff6",
   "metadata": {},
   "outputs": [],
   "source": [
    "#H.7.1\n",
    "def householder(state):\n",
    "    return np.eye(state.shape[0])- 2*np.outer(state,state)\n",
    "    pass"
   ]
  },
  {
   "cell_type": "code",
   "execution_count": null,
   "id": "a40f6625-e7ef-40fa-adfc-9b6e56159ea5",
   "metadata": {},
   "outputs": [],
   "source": [
    "#H.7.2a\n",
    "k_bits = 2\n",
    "n_bits = 2\n",
    "all_bits = k_bits + n_bits\n",
    "aux = range(k_bits)\n",
    "main = range(k_bits, all_bits)\n",
    "dev = qml.device(\"default.qubit\", wires=all_bits)\n",
    "\n",
    "def PREPARE(alpha_list):\n",
    "    zero_vec = np.array([1] + [0]*(2**k_bits - 1))\n",
    "    alpha_list = np.sqrt(alpha_list) / np.linalg.norm(alpha_list)\n",
    "    return householder((zero_vec - alpha_list) / np.linalg.norm(zero_vec -alpha_list))"
   ]
  },
  {
   "cell_type": "code",
   "execution_count": null,
   "id": "643d015f-413c-4e12-b597-b498fef6172f",
   "metadata": {},
   "outputs": [],
   "source": [
    "#H.7.2b\n",
    "def SELECT(U_list):\n",
    "    for index in range(2**k_bits):\n",
    "        ctrl_str = np.binary_repr(index, k_bits)\n",
    "        qml.ControlledQubitUnitary(U_list[index], control_wires=aux, \n",
    "                                   wires=main, control_values=ctrl_str)\n",
    "\n",
    "def LCU(alpha_list, U_list):\n",
    "    qml.QubitUnitary(PREPARE(alpha_list), wires=aux)\n",
    "    SELECT(U_list)\n",
    "    qml.adjoint(qml.QubitUnitary)(PREPARE(alpha_list), wires=aux)"
   ]
  },
  {
   "cell_type": "code",
   "execution_count": null,
   "id": "1cbc0eb3-7bff-400b-ab28-ac98934d01f5",
   "metadata": {},
   "outputs": [],
   "source": [
    "#H.7.2c\n",
    "U_list = [np.kron(qml.PauliX.compute_matrix(), qml.PauliX.compute_matrix()),\n",
    "          np.kron(qml.PauliZ.compute_matrix(), qml.PauliZ.compute_matrix()),\n",
    "          np.kron(qml.PauliX.compute_matrix(), qml.PauliZ.compute_matrix()),\n",
    "          np.kron(qml.PauliZ.compute_matrix(), qml.PauliX.compute_matrix())]\n",
    "alpha_list = [1, 0.5, 0.5, 1]\n",
    "\n",
    "@qml.qnode(dev)\n",
    "def my_circuit():\n",
    "    for _ in main:\n",
    "\t    qml.PauliX(wires=_)\n",
    "    LCU(alpha_list, U_list)\n",
    "    return qml.state()\n",
    "\n",
    "print(\"The amplitudes on the main register are proportional to\", my_circuit()[:4], \".\")"
   ]
  },
  {
   "cell_type": "code",
   "execution_count": null,
   "id": "0183ee2b-fc3e-462b-b62c-b8f966a68f7d",
   "metadata": {},
   "outputs": [],
   "source": [
    "#H.7.3\n",
    "@qml.qnode(dev)\n",
    "def quantum_memory(beta_list):\n",
    "    U_list = [np.identity(4), np.identity(4), \n",
    "              np.identity(11), np.identity(11)]\n",
    "    bell = np.matmul(np.kron(qml.Hadamard.compute_matrix(), np.eye(2)),qml.CNOT.compute_matrix())\n",
    "    U_list = [np.kron(qml.PauliZ.compute_matrix(), qml.PauliZ.compute_matrix()),\n",
    "    np.kron(qml.PauliZ.compute_matrix(),qml.PauliX.compute_matrix()),\n",
    "    np.kron(qml.PauliX.compute_matrix(),qml.PauliZ.compute_matrix()),\n",
    "    np.kron(qml.PauliX.compute_matrix(),qml.PauliX.compute_matrix())]\n",
    "    beta_sq = np.square(beta_list)\n",
    "    qml.QubitUnitary(PREPARE(beta_sq), wires=aux)\n",
    "    SELECT(U_list)\n",
    "    return qml.state()\n",
    "\n",
    "beta_list = [1, 0, 0, 1]\n",
    "normalized_coefficients = [quantum_memory(beta_list)[i].item() for i in range(0, 20, 5)]\n",
    "print(\"The amplitudes on the main register are proportional to\", normalized_coefficients, \".\")"
   ]
  }
 ],
 "metadata": {
  "kernelspec": {
   "display_name": "Python 3 (ipykernel)",
   "language": "python",
   "name": "python3"
  },
  "language_info": {
   "codemirror_mode": {
    "name": "ipython",
    "version": 3
   },
   "file_extension": ".py",
   "mimetype": "text/x-python",
   "name": "python",
   "nbconvert_exporter": "python",
   "pygments_lexer": "ipython3",
   "version": "3.11.6"
  }
 },
 "nbformat": 4,
 "nbformat_minor": 5
}
