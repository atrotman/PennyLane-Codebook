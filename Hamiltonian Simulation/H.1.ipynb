{
 "cells": [
  {
   "cell_type": "code",
   "execution_count": null,
   "id": "5698243c-e911-4d5f-bbdc-0b2215b74bb2",
   "metadata": {},
   "outputs": [],
   "source": [
    "#H.1.1\n",
    "input = [1, 1, 0] # MODIFY EXAMPLE\n",
    "print(\"The result of applying the secret box to \", input, \"is \")\n",
    "\n",
    "def deterministic_box(bits):\n",
    "    return bits[1:] + [bits[0]]"
   ]
  },
  {
   "cell_type": "code",
   "execution_count": null,
   "id": "8329cfd0-dbf0-4169-9589-14ff6ee8aca9",
   "metadata": {},
   "outputs": [],
   "source": [
    "#H.1.2\n",
    "input = 11\n",
    "\n",
    "trials = 111\n",
    "print(\"On input\", input, \"the approximate probability distribution is\")\n",
    "\n",
    "def random_box(bit):\n",
    "    return np.random.choice(2)"
   ]
  },
  {
   "cell_type": "code",
   "execution_count": null,
   "id": "174c2bb6-d88b-4e17-8f12-6d1fa72307bc",
   "metadata": {},
   "outputs": [],
   "source": [
    "#H.1.3\n",
    "dev = qml.device(\"default.qubit\", wires=1)\n",
    "\n",
    "input = 11\n",
    "reps = 11\n",
    "print(\"The probability distribution after applying the secret box to \", input)\n",
    "print(\"a total of \", reps, \"time(s) is \")\n",
    "\n",
    "@qml.qnode(dev)\n",
    "def quantum_box(bit, reps):\n",
    "    if bit == 1:\n",
    "        qml.PauliX(wires=0)\n",
    "    for _ in range(reps):\n",
    "        qml.Hadamard(wires=0)\n",
    "        pass\n",
    "    return qml.probs(wires=0)"
   ]
  }
 ],
 "metadata": {
  "kernelspec": {
   "display_name": "Python 3 (ipykernel)",
   "language": "python",
   "name": "python3"
  },
  "language_info": {
   "codemirror_mode": {
    "name": "ipython",
    "version": 3
   },
   "file_extension": ".py",
   "mimetype": "text/x-python",
   "name": "python",
   "nbconvert_exporter": "python",
   "pygments_lexer": "ipython3",
   "version": "3.11.6"
  }
 },
 "nbformat": 4,
 "nbformat_minor": 5
}
