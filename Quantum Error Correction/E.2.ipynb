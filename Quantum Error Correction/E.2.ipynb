{
 "cells": [
  {
   "cell_type": "code",
   "execution_count": 1,
   "id": "872ca265-e18f-4635-9db5-ada958b12e79",
   "metadata": {},
   "outputs": [],
   "source": [
    "#E.2.1\n",
    "dev = qml.device(\"default.mixed\", wires=3)\n",
    "\n",
    "@qml.qnode(dev)\n",
    "def bitflip_code_expval(p):\n",
    "    qml.CNOT(wires=[0, 1])\n",
    "    qml.CNOT(wires=[0, 2])\n",
    "    qml.BitFlip(p, wires=0)\n",
    "    qml.BitFlip(p, wires=1)\n",
    "    qml.BitFlip(p, wires=2)\n",
    "    qml.CNOT(wires=[0, 1])\n",
    "    qml.CNOT(wires=[0,2])\n",
    "    qml.Toffoli(wires=[1, 2, 0])\n",
    "    return qml.expval(qml.PauliZ([0]))"
   ]
  },
  {
   "cell_type": "code",
   "execution_count": null,
   "id": "360042c4-56ee-4557-9b38-e3ac1f5b036e",
   "metadata": {},
   "outputs": [],
   "source": [
    "#E.2.2\n",
    "dev = qml.device(\"default.mixed\", wires=3)\n",
    "\n",
    "@qml.qnode(dev)\n",
    "def phaseflip_code_expval(p):\n",
    "    qml.CNOT(wires=[0, 1])\n",
    "    qml.CNOT(wires=[0, 2])\n",
    "    qml.Hadamard(wires=0)\n",
    "    qml.Hadamard(wires=1)\n",
    "    qml.Hadamard(wires=2)\n",
    "    qml.PhaseFlip(p, wires=0)\n",
    "    qml.PhaseFlip(p, wires=1)\n",
    "    qml.PhaseFlip(p, wires=2)\n",
    "    qml.Hadamard(wires=0)\n",
    "    qml.Hadamard(wires=1)\n",
    "    qml.Hadamard(wires=2)\n",
    "    qml.CNOT(wires=[0, 1])\n",
    "    qml.CNOT(wires=[0,2])\n",
    "    qml.Toffoli(wires=[1, 2, 0])\n",
    "    return qml.expval(qml.PauliZ([0]))"
   ]
  },
  {
   "cell_type": "code",
   "execution_count": null,
   "id": "db7fc0f9-577b-4e45-915e-c785fe6f2787",
   "metadata": {},
   "outputs": [],
   "source": [
    "#E.2.3\n",
    "def largest_p():\n",
    "    probability_range = np.arange(0.0, 0.5, 0.01)\n",
    "    expvals = []\n",
    "    for prob in probability_range:\n",
    "        expvals.append(bitflip_code_expval(prob))\n",
    "    largest_p = 0.0\n",
    "    for i, expval in enumerate(expvals):\n",
    "        if expval > 0.9:\n",
    "            largest_p = probability_range[i]\n",
    "    return largest_p"
   ]
  },
  {
   "cell_type": "code",
   "execution_count": null,
   "id": "5ef78669-c68d-4fd3-8708-076027916d16",
   "metadata": {},
   "outputs": [],
   "source": [
    "#E.2.4\n",
    "#E.2.4\n",
    "n = 3\n",
    "dev = qml.device(\"default.mixed\", wires=3)\n",
    "\n",
    "@qml.qnode(dev)\n",
    "def multi_bitflip_code_expval(p, n):\n",
    "    qml.CNOT(wires=[0,1])\n",
    "    qml.CNOT(wires=[0,2])\n",
    "    for _ in range(n):\n",
    "        qml.BitFlip(p, wires=0)\n",
    "        qml.BitFlip(p, wires=1)\n",
    "        qml.BitFlip(p, wires=2) qml.CNOT(wires=[0,1])\n",
    "    qml.CNOT(wires=[0,2])\n",
    "    qml.Toffoli(wires=[1,2,0])\n",
    "    return qml.expval(qml.PauliZ([0]))"
   ]
  }
 ],
 "metadata": {
  "kernelspec": {
   "display_name": "Python 3 (ipykernel)",
   "language": "python",
   "name": "python3"
  },
  "language_info": {
   "codemirror_mode": {
    "name": "ipython",
    "version": 3
   },
   "file_extension": ".py",
   "mimetype": "text/x-python",
   "name": "python",
   "nbconvert_exporter": "python",
   "pygments_lexer": "ipython3",
   "version": "3.11.6"
  }
 },
 "nbformat": 4,
 "nbformat_minor": 5
}
