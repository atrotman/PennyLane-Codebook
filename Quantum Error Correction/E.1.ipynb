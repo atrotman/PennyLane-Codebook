{
 "cells": [
  {
   "cell_type": "code",
   "execution_count": null,
   "id": "e82e8d1d-37fc-450d-80ce-2b47132c3c52",
   "metadata": {},
   "outputs": [],
   "source": [
    "#E.1.1\n",
    "def encode(b):\n",
    "    return [b, b, b]\n",
    "\n",
    "def noisy_channel(b, p):\n",
    "    alice_sends = encode(b)\n",
    "    noisy_codeword = []\n",
    "    for bit in alice_sends:\n",
    "        random_prob = np.random.random()\n",
    "        if random_prob < p:\n",
    "            noisy_bit = 1 - bit\n",
    "        else:\n",
    "            noisy_bit = bit\n",
    "        noisy_codeword.append(noisy_bit)\n",
    "    return noisy_codeword"
   ]
  },
  {
   "cell_type": "code",
   "execution_count": null,
   "id": "fe4a27ac-7ac4-4071-9c41-cc888dd79f62",
   "metadata": {},
   "outputs": [],
   "source": [
    "#E.1.2\n",
    "def decode(codeword):\n",
    "    count_zeros = codeword.count(0)\n",
    "    count_ones = codeword.count(1)\n",
    "    return 0 if count_zeros >= count_ones else 1\n",
    "\n",
    "def success(b, codeword):\n",
    "    bob_guess = decode(codeword)\n",
    "    return bob_guess == b"
   ]
  }
 ],
 "metadata": {
  "kernelspec": {
   "display_name": "Python 3 (ipykernel)",
   "language": "python",
   "name": "python3"
  },
  "language_info": {
   "codemirror_mode": {
    "name": "ipython",
    "version": 3
   },
   "file_extension": ".py",
   "mimetype": "text/x-python",
   "name": "python",
   "nbconvert_exporter": "python",
   "pygments_lexer": "ipython3",
   "version": "3.11.6"
  }
 },
 "nbformat": 4,
 "nbformat_minor": 5
}
