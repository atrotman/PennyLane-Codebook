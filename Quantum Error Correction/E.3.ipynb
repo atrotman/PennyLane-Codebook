{
 "cells": [
  {
   "cell_type": "code",
   "execution_count": null,
   "id": "679493c9-0d19-41be-8a79-7b2626e7fc1c",
   "metadata": {},
   "outputs": [],
   "source": [
    "#E.3.\n",
    "z_error_4 = error(error_type=\"Z\", wires=[4])\n",
    "\n",
    "yx_error_80 = error(error_type=\"YX\", wires=[8, 0])\n",
    "\n",
    "xxzzyy_error_123450 = error(error_type=\"XXZZYY\", wires=[1, 2, 3, 4, 5, 0])"
   ]
  },
  {
   "cell_type": "code",
   "execution_count": null,
   "id": "0a4860ec-8916-4b28-84fa-bf0390a74ead",
   "metadata": {},
   "outputs": [],
   "source": [
    "#E.3.2\n",
    "dev = qml.device(\"default.qubit\", wires=9)\n",
    "\n",
    "@qml.qnode(dev)\n",
    "def shor(state, error_type, wires):\n",
    "    qml.CNOT(wires=[0,3])\n",
    "    qml.CNOT(wires=[0,6])\n",
    "\n",
    "    qml.Hadamard(wires=0)\n",
    "    qml.Hadamard(wires=3)\n",
    "    qml.Hadamard(wires=6)\n",
    "\n",
    "    qml.CNOT(wires=[0,1])\n",
    "    qml.CNOT(wires=[3,4])\n",
    "    qml.CNOT(wires=[6,7])\n",
    "    qml.CNOT(wires=[0,2])\n",
    "    qml.CNOT(wires=[3,5])\n",
    "    qml.CNOT(wires=[6,8])\n",
    "\n",
    "    for err in error(error_type=error_type, wires=wires):\n",
    "        err\n",
    "\n",
    "    qml.CNOT(wires=[0,1])\n",
    "    qml.CNOT(wires=[3,4])\n",
    "    qml.CNOT(wires=[6,7])\n",
    "    qml.CNOT(wires=[0,2])\n",
    "    qml.CNOT(wires=[3,5])\n",
    "    qml.CNOT(wires=[6,8])\n",
    "\n",
    "    qml.Toffoli(wires=[2, 1, 0])\n",
    "    qml.Toffoli(wires=[5, 4, 3])\n",
    "    qml.Toffoli(wires=[8, 7, 6])\n",
    "\n",
    "    qml.Hadamard(wires=0)\n",
    "    qml.Hadamard(wires=3)\n",
    "    qml.Hadamard(wires=6)\n",
    "\n",
    "    qml.CNOT(wires=[0,3])\n",
    "    qml.CNOT(wires=[0,6])\n",
    "\n",
    "    qml.Toffoli(wires=[6,3,0])\n",
    "\n",
    "    return qml.probs(wires=0), qml.probs(wires=range(1, 9))\n"
   ]
  },
  {
   "cell_type": "code",
   "execution_count": null,
   "id": "ddc2ec50-e5c4-4403-b1dd-afd69f44ab13",
   "metadata": {},
   "outputs": [],
   "source": [
    "#E.3.3\n",
    "def decoded(state, error_type, wires):\n",
    "    prob0 = shor(state, error_type, wires)[0]\n",
    "    threshold = 0.5\n",
    "    if prob0[0] >= threshold:\n",
    "        return True\n",
    "    else:\n",
    "        return False\n",
    "\n",
    "state = random_state()\n",
    "single_qubit_errors = [[\"X\", [i]] for i in range(9)]\n",
    "single_qubit_errors += [[\"Y\", [i]] for i in range(9)]\n",
    "single_qubit_errors += [[\"Z\", [i]] for i in range(9)]\n",
    "decoded_list = []\n",
    "\n",
    "for err in single_qubit_errors:\n",
    "    decoded_list.append(decoded(state, *err))\n",
    "\n",
    "print(decoded_list)"
   ]
  },
  {
   "cell_type": "code",
   "execution_count": null,
   "id": "c50a48f4-fbab-441c-b5df-3581729f9abf",
   "metadata": {},
   "outputs": [],
   "source": [
    "#E.3.4b\n",
    "def find_the_one(syndrome):\n",
    "    index = np.nonzero(syndrome)[0]\n",
    "    if len(index) > 0:\n",
    "        return index[0]"
   ]
  },
  {
   "cell_type": "code",
   "execution_count": null,
   "id": "23dc5c62-f1c9-4c83-b1df-636a5deadcdf",
   "metadata": {},
   "outputs": [],
   "source": [
    "#E.3.4b\n",
    "single_qubit_errors = [[\"X\", [i]] for i in range(9)]\n",
    "single_qubit_errors += [[\"Y\", [i]] for i in range(9)]\n",
    "single_qubit_errors += [[\"Z\", [i]] for i in range(9)]\n",
    "\n",
    "all_syndromes = []\n",
    "unique_syndromes = []\n",
    "degenerate_syndromes = {}\n",
    "\n",
    "state = random_state()\n",
    "\n",
    "for err in single_qubit_errors:\n",
    "    ind = find_the_one(shor(state, *err)[1])\n",
    "    if ind in unique_syndromes: \n",
    "        other_ind = np.where(np.array(all_syndromes) == ind)[0].item()\n",
    "        unique_syndromes.remove(ind)\n",
    "        degenerate_syndromes[ind] = [single_qubit_errors[other_ind], err]\n",
    "    elif ind in degenerate_syndromes.keys(): \n",
    "        degenerate_syndromes[ind].append(err)\n",
    "    else:\n",
    "        unique_syndromes.append(ind)\n",
    "    all_syndromes.append(ind)"
   ]
  },
  {
   "cell_type": "code",
   "execution_count": null,
   "id": "18faaf9d-b5c8-4555-9ecf-88f38c1cc3b8",
   "metadata": {},
   "outputs": [],
   "source": [
    "#E.3.5\n",
    "state = random_state()\n",
    "xxzz_error_0458 = [\"XXZZ\", [0, 4, 5, 8]]\n",
    "xxyyzz_error_371820 = [\"XXYYZZ\", [3, 7, 1, 8, 2, 0]]\n",
    "xyzxyzxyz_error_012345678 = [\"XYZXYZXYZ\", [0, 1, 2, 3, 4, 5, 6, 7, 8]]\n",
    "errors = [xxzz_error_0458, xxyyzz_error_371820, xyzxyzxyz_error_012345678]\n",
    "decoded_list = []\n",
    "\n",
    "for err in errors:\n",
    "    decoded_list.append(decoded(state, *err))\n",
    "print(decoded_list)"
   ]
  }
 ],
 "metadata": {
  "kernelspec": {
   "display_name": "Python 3 (ipykernel)",
   "language": "python",
   "name": "python3"
  },
  "language_info": {
   "codemirror_mode": {
    "name": "ipython",
    "version": 3
   },
   "file_extension": ".py",
   "mimetype": "text/x-python",
   "name": "python",
   "nbconvert_exporter": "python",
   "pygments_lexer": "ipython3",
   "version": "3.11.6"
  }
 },
 "nbformat": 4,
 "nbformat_minor": 5
}
